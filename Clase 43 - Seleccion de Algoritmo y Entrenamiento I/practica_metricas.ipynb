{
 "cells": [
  {
   "cell_type": "code",
   "execution_count": 1,
   "id": "ffa351b1-3582-4a77-a89b-aada46af11cf",
   "metadata": {},
   "outputs": [
    {
     "name": "stdout",
     "output_type": "stream",
     "text": [
      "(70000, 784)\n",
      "(70000,)\n"
     ]
    },
    {
     "data": {
      "image/png": "[encoded data removed]",
      "text/plain": [
       "<Figure size 432x288 with 1 Axes>"
      ]
     },
     "metadata": {
      "needs_background": "light"
     },
     "output_type": "display_data"
    }
   ],
   "source": [
    "import pandas as pd\n",
    "\n",
    "from sklearn.datasets import fetch_openml\n",
    "\n",
    "mnist = fetch_openml('mnist_784', version = 1)\n",
    "\n",
    "X, y = mnist[\"data\"], mnist[\"target\"]\n",
    "print(X.shape)\n",
    "print(y.shape)\n",
    "\n",
    "import matplotlib as mpl\n",
    "import matplotlib.pyplot as plt\n",
    "import numpy as np\n",
    "\n",
    "#transforma los pixels en para poder plotear\n",
    "some_digit = np.array(X.iloc[0])\n",
    "some_digit_image = some_digit.reshape(28, 28)\n",
    "\n",
    "plt.imshow(some_digit_image, cmap = \"binary\")\n",
    "plt.axis(\"off\")\n",
    "\n",
    "#transformo la label de string a integer\n",
    "y = y.astype(np.uint8)\n",
    "\n",
    "#separamos train y test set\n",
    "X_train, X_test, y_train, y_test = X[:60000], X[60000:], y[:60000], y[60000:]\n",
    "\n",
    "#reducimos el problema a detectar solo el numero 5\n",
    "#armamos las labels\n",
    "y_train_5 = (y_train == 5).astype(int)\n",
    "y_test_5 = (y_test == 5).astype(int)"
   ]
  },
  {
   "cell_type": "code",
   "execution_count": null,
   "id": "43d31b8b-6d14-412a-ad54-38984963b592",
   "metadata": {},
   "outputs": [],
   "source": [
    "#En esta celda normalizamos la data con el Normalizer, cual es la diferencia con el Standard Scaler?\n",
    "from sklearn.preprocessing import Normalizer"
   ]
  },
  {
   "cell_type": "code",
   "execution_count": null,
   "id": "2816c749-b98a-4cd9-ab3a-82912b7fe011",
   "metadata": {},
   "outputs": [],
   "source": [
    "#entrenamos dos modelos\n",
    "#linear svm\n",
    "#random forest\n",
    "from sklearn.svm import LinearSVC"
   ]
  },
  {
   "cell_type": "code",
   "execution_count": null,
   "id": "7a14cd4f-9c5c-4211-96ce-54b8a7483f79",
   "metadata": {},
   "outputs": [],
   "source": [
    "#predecimos tanto el training set como el test set"
   ]
  },
  {
   "cell_type": "code",
   "execution_count": null,
   "id": "2ef14c5e-b6ba-4b65-b984-eeffe72b474c",
   "metadata": {},
   "outputs": [],
   "source": [
    "#ploteamos la matriz de confusion para la svm\n",
    "import matplotlib.pyplot as plt\n",
    "from sklearn.metrics import confusion_matrix\n",
    "from sklearn.metrics import plot_confusion_matrix\n",
    "\n",
    "#printeamos Matriz de Confusión con las labels reales y las predicciones\n",
    "print()\n",
    "\n",
    "#Ploteamos la Matriz, agregar el clasificador en el primer espacio\n",
    "plot_confusion_matrix(, X_train_scl, y_train_5)\n",
    "plt.show()"
   ]
  },
  {
   "cell_type": "code",
   "execution_count": null,
   "id": "ef7f7c10-e825-494b-8902-527e26a31401",
   "metadata": {},
   "outputs": [],
   "source": [
    "#calculamos metricas para ambos modelos\n",
    "from sklearn.metrics import accuracy_score, precision_score, recall_score, f1_score\n",
    "#precision = TP / (TP + FP)\n",
    "#recall = TP / (TP + FN)\n",
    "#f1 score = 1/(1/recall + 1/precision)\n",
    "\n",
    "print(\"train accuracy:\", )\n",
    "print(\"train precision:\",) \n",
    "print(\"train recall:\",)\n",
    "print(\"train f1 score:\",)\n"
   ]
  }
 ],
 "metadata": {
  "kernelspec": {
   "display_name": "Python 3",
   "language": "python",
   "name": "python3"
  },
  "language_info": {
   "codemirror_mode": {
    "name": "ipython",
    "version": 3
   },
   "file_extension": ".py",
   "mimetype": "text/x-python",
   "name": "python",
   "nbconvert_exporter": "python",
   "pygments_lexer": "ipython3",
   "version": "3.8.10"
  }
 },
 "nbformat": 4,
 "nbformat_minor": 5
}
