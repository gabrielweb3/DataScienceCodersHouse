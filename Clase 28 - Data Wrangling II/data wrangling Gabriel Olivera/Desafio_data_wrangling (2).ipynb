{
 "cells": [
  {
   "cell_type": "code",
   "execution_count": 1,
   "metadata": {},
   "outputs": [
    {
     "data": {
      "text/plain": [
       "\"\\nData Wrangling\\nLeer w_data.csv y p_data.csv, fucionarlos a partir de una \\nvariable que tengan en comun y realizar los siguientes\\nejercicios:\\n    1. cuantos ID tienen en comun. Nombrar cuales no tienen\\n    en comun\\n    2. corregir los target a solo dos valores distintitos\\n    '<=50k' y '>50k'\\n    3. calcular la proporcion que hay entre personas con \\n    salarios >50k respecto del total para entre \\n    personas del mismo sexo, raza y educacion\\n    por ejemplo, cual es el pocentaje de mujeres con un salario \\n    mayor a 50k y compararlo con el de los hombre.\\n    lo mismo para personas de distintas razas y educacion\\n\""
      ]
     },
     "execution_count": 1,
     "metadata": {},
     "output_type": "execute_result"
    }
   ],
   "source": [
    "'''\n",
    "Data Wrangling\n",
    "Leer w_data.csv y p_data.csv, fucionarlos a partir de una \n",
    "variable que tengan en comun y realizar los siguientes\n",
    "ejercicios:\n",
    "    1. cuantos ID tienen en comun. Nombrar cuales no tienen\n",
    "    en comun\n",
    "    2. corregir los target a solo dos valores distintitos\n",
    "    '<=50k' y '>50k'\n",
    "    3. calcular la proporcion que hay entre personas con \n",
    "    salarios >50k respecto del total para entre \n",
    "    personas del mismo sexo, raza y educacion\n",
    "    por ejemplo, cual es el pocentaje de mujeres con un salario \n",
    "    mayor a 50k y compararlo con el de los hombre.\n",
    "    lo mismo para personas de distintas razas y educacion\n",
    "'''"
   ]
  },
  {
   "cell_type": "code",
   "execution_count": 2,
   "metadata": {},
   "outputs": [],
   "source": [
    "# importo librerias necesarias\n",
    "import pandas as pd\n",
    "from plotly.offline import plot\n",
    "import plotly.express as px"
   ]
  },
  {
   "cell_type": "code",
   "execution_count": 3,
   "metadata": {},
   "outputs": [],
   "source": [
    "# importo datos con los separadores adecuados\n",
    "p = pd.read_csv(r'C:\\Users\\gabri\\OneDrive\\Escritorio\\Cursos\\Data Science\\DataScienceCodersHouse\\Clase 28 - Data Wrangling II\\p_data.csv', sep = ';')\n",
    "w = pd.read_csv(r'C:\\Users\\gabri\\OneDrive\\Escritorio\\Cursos\\Data Science\\DataScienceCodersHouse\\Clase 28 - Data Wrangling II\\w_data.csv', sep = ';')"
   ]
  },
  {
   "cell_type": "code",
   "execution_count": 4,
   "metadata": {},
   "outputs": [],
   "source": [
    "# joineo ambos dataframes por la columna ID\n",
    "data = p.merge(w, how = 'inner', on = 'ID')"
   ]
  },
  {
   "cell_type": "code",
   "execution_count": 5,
   "metadata": {},
   "outputs": [
    {
     "name": "stdout",
     "output_type": "stream",
     "text": [
      "Cantidad de valores de ID coincidentes:  48842\n"
     ]
    }
   ],
   "source": [
    "# 1 - cuantos ID tienen en comun\n",
    "cuanto_ID_en_comun = pd.concat([p['ID'],w['ID']],axis=1,keys=['ID1', 'ID2'])\n",
    "cuanto_ID_en_comun = cuanto_ID_en_comun.dropna()\n",
    "cuanto_ID_en_comun.insert(2,'coinciden',cuanto_ID_en_comun['ID2']==cuanto_ID_en_comun['ID2'])\n",
    "cantidad_de_coincidencias = cuanto_ID_en_comun.groupby(['coinciden'])['coinciden'].count()\n",
    "print('Cantidad de valores de ID coincidentes: ',cantidad_de_coincidencias[1])\n"
   ]
  },
  {
   "cell_type": "code",
   "execution_count": 6,
   "metadata": {},
   "outputs": [
    {
     "name": "stdout",
     "output_type": "stream",
     "text": [
      "Valores unicos de la columna (antes de filtrar):  [' <=50K' ' >50K' nan ' <=50K.' ' >50K.']\n",
      "Valores unicos de la columna (luego de filtrar):  [' <=50K' ' >50K']\n"
     ]
    }
   ],
   "source": [
    "# 2 - corregir los target a los valores distintos a <=50k y >50k\n",
    "print('Valores unicos de la columna (antes de filtrar): ',data['Target'].unique())\n",
    "# data['Target'] = data['Target'].replace(to_replace = np.nan, value = 'a reemplazar')\n",
    "data['Target'] = data['Target'].str.replace(data['Target'].unique()[3], data['Target'].unique()[0], regex=True)\n",
    "data['Target'] = data['Target'].str.replace(data['Target'].unique()[3], data['Target'].unique()[1], regex=True)\n",
    "data = data.dropna()\n",
    "print('Valores unicos de la columna (luego de filtrar): ',data['Target'].unique())\n"
   ]
  },
  {
   "cell_type": "code",
   "execution_count": 7,
   "metadata": {},
   "outputs": [],
   "source": [
    "# 3 - calcular proporcion de personas con salarios menores a 50k, discriminando\n",
    "# por sexo, raza y educacion\n",
    "# filtro dataframe solo para quedarme con Target >50K\n",
    "data_filtrado = data[data['Target']==' >50K']\n",
    "# agrupacion de datos con dataframe filtrado\n",
    "discriminacion_por_sexo = pd.DataFrame(data_filtrado.groupby(['Sex'])['Target'].count())\n",
    "discriminacion_por_raza = pd.DataFrame(data_filtrado.groupby(['Race'])['Target'].count())\n",
    "discriminacion_por_educacion = pd.DataFrame(data_filtrado.groupby(['Education'])['Target'].count())\n",
    "# definicion de metricas con respecto a la totalidad de los casos\n",
    "discriminacion_por_sexo['% sobre el total'] = 100*discriminacion_por_sexo['Target']/len(data['Target'])\n",
    "discriminacion_por_raza['% sobre el total'] = 100*discriminacion_por_raza['Target']/len(data['Target'])\n",
    "discriminacion_por_educacion['% sobre el total'] = 100*discriminacion_por_educacion['Target']/len(data['Target'])\n",
    "# definicion de metricas con respecto a las personas que ganan mas de 50k\n",
    "discriminacion_por_sexo['% sobre cantidad que ganan 50K'] = 100*discriminacion_por_sexo['Target']/len(data_filtrado['Target'])\n",
    "discriminacion_por_raza['% sobre cantidad que ganan 50K'] = 100*discriminacion_por_raza['Target']/len(data_filtrado['Target'])\n",
    "discriminacion_por_educacion['% sobre cantidad que ganan 50K'] = 100*discriminacion_por_educacion['Target']/len(data_filtrado['Target'])\n"
   ]
  },
  {
   "cell_type": "code",
   "execution_count": 10,
   "metadata": {},
   "outputs": [
    {
     "name": "stderr",
     "output_type": "stream",
     "text": [
      "C:\\Users\\gabri\\anaconda3\\lib\\site-packages\\plotly\\offline\\offline.py:562: UserWarning:\n",
      "\n",
      "Your filename `Porcentaje de personas que ganan mas de 50K segun su sexo` didn't end with .html. Adding .html to the end of your file.\n",
      "\n",
      "C:\\Users\\gabri\\anaconda3\\lib\\site-packages\\plotly\\offline\\offline.py:562: UserWarning:\n",
      "\n",
      "Your filename `Porcentaje de personas que ganan mas de 50K segun su educacion` didn't end with .html. Adding .html to the end of your file.\n",
      "\n",
      "C:\\Users\\gabri\\anaconda3\\lib\\site-packages\\plotly\\offline\\offline.py:562: UserWarning:\n",
      "\n",
      "Your filename `Porcentaje de personas que ganan mas de 50K segun su raza` didn't end with .html. Adding .html to the end of your file.\n",
      "\n"
     ]
    },
    {
     "data": {
      "text/plain": [
       "'Porcentaje de personas que ganan mas de 50K segun su raza.html'"
      ]
     },
     "execution_count": 10,
     "metadata": {},
     "output_type": "execute_result"
    }
   ],
   "source": [
    "# visualizacion de datos\n",
    "# discriminacion por sexo\n",
    "fig = px.bar(discriminacion_por_sexo, x=discriminacion_por_sexo.index,\n",
    "             y='% sobre cantidad que ganan 50K')\n",
    "fig.update_layout(title_text=\"Porcentaje de personas que ganan mas de 50K segun su sexo\")\n",
    "plot(fig,filename='Porcentaje de personas que ganan mas de 50K segun su sexo')\n",
    "# discriminacion por educacion\n",
    "fig3 = px.bar(discriminacion_por_educacion, x=discriminacion_por_educacion.index,\n",
    "             y='% sobre cantidad que ganan 50K')\n",
    "fig3.update_layout(title_text=\"Porcentaje de personas que ganan mas de 50K segun su educacion\")\n",
    "plot(fig3,filename='Porcentaje de personas que ganan mas de 50K segun su educacion')\n",
    "# discriminacion por raza\n",
    "fig2 = px.pie(discriminacion_por_raza, values='% sobre cantidad que ganan 50K',\n",
    "              names=discriminacion_por_raza.index, title='Porcentaje de personas que ganan mas de 50K segun su raza')\n",
    "plot(fig2,filename='Porcentaje de personas que ganan mas de 50K segun su raza')"
   ]
  },
  {
   "cell_type": "code",
   "execution_count": null,
   "metadata": {},
   "outputs": [],
   "source": []
  }
 ],
 "metadata": {
  "kernelspec": {
   "display_name": "Python 3",
   "language": "python",
   "name": "python3"
  },
  "language_info": {
   "codemirror_mode": {
    "name": "ipython",
    "version": 3
   },
   "file_extension": ".py",
   "mimetype": "text/x-python",
   "name": "python",
   "nbconvert_exporter": "python",
   "pygments_lexer": "ipython3",
   "version": "3.8.3"
  }
 },
 "nbformat": 4,
 "nbformat_minor": 4
}
