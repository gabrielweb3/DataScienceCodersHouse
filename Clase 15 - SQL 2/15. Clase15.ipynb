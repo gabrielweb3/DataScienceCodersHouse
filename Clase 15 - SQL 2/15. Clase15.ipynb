{
 "cells": [
  {
   "cell_type": "markdown",
   "id": "d9ebedf5",
   "metadata": {},
   "source": [
    "# Conociendo Sqlite3"
   ]
  },
  {
   "cell_type": "markdown",
   "id": "947f89bb",
   "metadata": {},
   "source": [
    "## Creo una BD"
   ]
  },
  {
   "cell_type": "markdown",
   "id": "2d006d69",
   "metadata": {},
   "source": [
    "## Material:\n",
    " - https://sqlitestudio.pl/\n",
    " - https://docs.python.org/3/library/sqlite3.html"
   ]
  },
  {
   "cell_type": "markdown",
   "id": "99b98008",
   "metadata": {},
   "source": [
    "### Para crear o conectarnos a una BD en Sqlite3 es la misma sentencia."
   ]
  },
  {
   "cell_type": "code",
   "execution_count": 1,
   "id": "103d0a80",
   "metadata": {},
   "outputs": [],
   "source": [
    "import sqlite3"
   ]
  },
  {
   "cell_type": "code",
   "execution_count": 2,
   "id": "6bba1751",
   "metadata": {},
   "outputs": [],
   "source": [
    "con = sqlite3.connect('example.db')"
   ]
  },
  {
   "cell_type": "code",
   "execution_count": 4,
   "id": "577bc76d",
   "metadata": {},
   "outputs": [],
   "source": [
    "con = sqlite3.connect('DB_Clase.db')"
   ]
  },
  {
   "cell_type": "markdown",
   "id": "fee5dcae",
   "metadata": {},
   "source": [
    "### Para crear una tabla e insertar datos"
   ]
  },
  {
   "cell_type": "code",
   "execution_count": 5,
   "id": "a2edbb09",
   "metadata": {},
   "outputs": [],
   "source": [
    "cur = con.cursor()\n",
    "\n",
    "# Create table\n",
    "cur.execute('''CREATE TABLE products\n",
    "               (ProductID int, ProductName text, SupplierID int, CategoryID int, Unit text, Price real)''')\n",
    "\n",
    "# Insert a row of data\n",
    "cur.execute(\"INSERT INTO products VALUES (78, 'Queso Crema', 2, 4, '1 kg pkg.', 30)\")\n",
    "\n",
    "# Save (commit) the changes\n",
    "con.commit()\n",
    "\n",
    "# We can also close the connection if we are done with it.\n",
    "# Just be sure any changes have been committed or they will be lost.\n",
    "con.close()\n"
   ]
  },
  {
   "cell_type": "markdown",
   "id": "5fceda2b",
   "metadata": {},
   "source": [
    "### Para insertar mas datos..."
   ]
  },
  {
   "cell_type": "code",
   "execution_count": 7,
   "id": "b21e3d18",
   "metadata": {},
   "outputs": [],
   "source": [
    "con = sqlite3.connect('DB_Clase.db')"
   ]
  },
  {
   "cell_type": "code",
   "execution_count": 8,
   "id": "e61d97f4",
   "metadata": {},
   "outputs": [
    {
     "data": {
      "text/plain": [
       "<sqlite3.Cursor at 0x7f843eb61340>"
      ]
     },
     "execution_count": 8,
     "metadata": {},
     "output_type": "execute_result"
    }
   ],
   "source": [
    "cur = con.cursor()\n",
    "\n",
    "# Insert a row of data\n",
    "cur.execute(\"INSERT INTO products VALUES (78, 'Queso Crema', 2, 4, '1 kg pkg.', 30)\")"
   ]
  },
  {
   "cell_type": "markdown",
   "id": "87638ac8",
   "metadata": {},
   "source": [
    "#### Voy a chequear si se agrego el registro... y?"
   ]
  },
  {
   "cell_type": "code",
   "execution_count": 9,
   "id": "ce87065b",
   "metadata": {},
   "outputs": [],
   "source": [
    "# Insert a row of data\n",
    "cur.execute(\"INSERT INTO products VALUES (78, 'Queso Crema', 2, 4, '1 kg pkg.', 30)\")\n",
    "\n",
    "con.commit()"
   ]
  },
  {
   "cell_type": "markdown",
   "id": "625b7da5",
   "metadata": {},
   "source": [
    "#### Ahora vuelvo a chequear, cuantos registros se agregaron?"
   ]
  },
  {
   "cell_type": "markdown",
   "id": "9d823e42",
   "metadata": {},
   "source": [
    "### Inserto con Roll Back!"
   ]
  },
  {
   "cell_type": "code",
   "execution_count": 13,
   "id": "d4f3a1eb",
   "metadata": {},
   "outputs": [
    {
     "data": {
      "text/plain": [
       "<sqlite3.Cursor at 0x7f843eb61880>"
      ]
     },
     "execution_count": 13,
     "metadata": {},
     "output_type": "execute_result"
    }
   ],
   "source": [
    "cur = con.cursor()\n",
    "\n",
    "# Insert a row of data\n",
    "cur.execute(\"INSERT INTO products VALUES (80, 'Queso Crema', 2, 4, '1 kg pkg.', 30)\")"
   ]
  },
  {
   "cell_type": "code",
   "execution_count": 11,
   "id": "69cf6e46",
   "metadata": {},
   "outputs": [],
   "source": [
    "con.rollback()"
   ]
  },
  {
   "cell_type": "code",
   "execution_count": 14,
   "id": "b6dc8d2d",
   "metadata": {},
   "outputs": [],
   "source": [
    "# Insert a row of data\n",
    "cur.execute(\"INSERT INTO products VALUES (78, 'Queso Crema', 2, 4, '1 kg pkg.', 30)\")\n",
    "\n",
    "con.commit()"
   ]
  },
  {
   "cell_type": "markdown",
   "id": "9d8bd1f0",
   "metadata": {},
   "source": [
    "### Y si quiero hacer un update?"
   ]
  },
  {
   "cell_type": "code",
   "execution_count": 15,
   "id": "e03f747a",
   "metadata": {},
   "outputs": [],
   "source": [
    "# Insert a row of data\n",
    "cur.execute(\"INSERT INTO products VALUES (78, 'Queso Cremasss', 24, 4, '1 kg pkg.', 30)\")\n",
    "\n",
    "con.commit()"
   ]
  },
  {
   "cell_type": "code",
   "execution_count": 16,
   "id": "273f3f3e",
   "metadata": {},
   "outputs": [],
   "source": [
    "# Insert a row of data\n",
    "cur.execute('''UPDATE products \n",
    "            SET ProductName = 'Queso Crema',\n",
    "                SupplierID = 2\n",
    "            WHERE SupplierID = 24\n",
    "            ''')\n",
    "con.commit()"
   ]
  },
  {
   "cell_type": "markdown",
   "id": "0c0b0ad4",
   "metadata": {},
   "source": [
    "#### Y si quiero borrar?"
   ]
  },
  {
   "cell_type": "code",
   "execution_count": 22,
   "id": "03bfe8cb",
   "metadata": {},
   "outputs": [],
   "source": [
    "# Insert a row of data\n",
    "cur.execute(\"INSERT INTO products VALUES (79, 'Queso Crema', 2, 4, '1 kg pkg.', 30)\")\n",
    "\n",
    "con.commit()"
   ]
  },
  {
   "cell_type": "code",
   "execution_count": 18,
   "id": "c3f8858f",
   "metadata": {},
   "outputs": [],
   "source": [
    "# Insert a row of data\n",
    "cur.execute('''DELETE FROM Products\n",
    "                WHERE ProductID >= 79;\n",
    "            ''')\n",
    "\n",
    "con.commit()"
   ]
  },
  {
   "cell_type": "code",
   "execution_count": 19,
   "id": "a58642f1",
   "metadata": {},
   "outputs": [
    {
     "name": "stdout",
     "output_type": "stream",
     "text": [
      "(78, 'Queso Crema', 2, 4, '1 kg pkg.', 30.0)\n",
      "(78, 'Queso Crema', 2, 4, '1 kg pkg.', 30.0)\n",
      "(78, 'Queso Crema', 2, 4, '1 kg pkg.', 30.0)\n",
      "(78, 'Queso Crema', 2, 4, '1 kg pkg.', 30.0)\n",
      "(78, 'Queso Crema', 2, 4, '1 kg pkg.', 30.0)\n",
      "(78, 'Queso Crema', 2, 4, '1 kg pkg.', 30.0)\n"
     ]
    }
   ],
   "source": [
    "for row in cur.execute(\"SELECT * FROM Products\"):\n",
    "        print(row)"
   ]
  },
  {
   "cell_type": "markdown",
   "id": "9c692e9f",
   "metadata": {},
   "source": [
    "## Y Pandas? No tiene nada que ver con todo esto? ;)"
   ]
  },
  {
   "cell_type": "code",
   "execution_count": 20,
   "id": "5bb102e7",
   "metadata": {},
   "outputs": [],
   "source": [
    "import pandas as pd"
   ]
  },
  {
   "cell_type": "code",
   "execution_count": 24,
   "id": "894aaa23",
   "metadata": {},
   "outputs": [
    {
     "data": {
      "text/html": [
       "<div>\n",
       "<style scoped>\n",
       "    .dataframe tbody tr th:only-of-type {\n",
       "        vertical-align: middle;\n",
       "    }\n",
       "\n",
       "    .dataframe tbody tr th {\n",
       "        vertical-align: top;\n",
       "    }\n",
       "\n",
       "    .dataframe thead th {\n",
       "        text-align: right;\n",
       "    }\n",
       "</style>\n",
       "<table border=\"1\" class=\"dataframe\">\n",
       "  <thead>\n",
       "    <tr style=\"text-align: right;\">\n",
       "      <th></th>\n",
       "      <th>ProductID</th>\n",
       "      <th>ProductName</th>\n",
       "      <th>SupplierID</th>\n",
       "      <th>CategoryID</th>\n",
       "      <th>Unit</th>\n",
       "      <th>Price</th>\n",
       "    </tr>\n",
       "  </thead>\n",
       "  <tbody>\n",
       "    <tr>\n",
       "      <th>0</th>\n",
       "      <td>79</td>\n",
       "      <td>Queso Crema</td>\n",
       "      <td>2</td>\n",
       "      <td>4</td>\n",
       "      <td>1 kg pkg.</td>\n",
       "      <td>30.0</td>\n",
       "    </tr>\n",
       "  </tbody>\n",
       "</table>\n",
       "</div>"
      ],
      "text/plain": [
       "   ProductID  ProductName  SupplierID  CategoryID       Unit  Price\n",
       "0         79  Queso Crema           2           4  1 kg pkg.   30.0"
      ]
     },
     "execution_count": 24,
     "metadata": {},
     "output_type": "execute_result"
    }
   ],
   "source": [
    "query = \"SELECT * FROM Products WHERE ProductID = 79\"\n",
    "pd.read_sql(query, con)"
   ]
  },
  {
   "cell_type": "code",
   "execution_count": 25,
   "id": "def92918",
   "metadata": {},
   "outputs": [],
   "source": [
    "query = \"SELECT * FROM Products\"\n",
    "new_data = pd.read_sql(query, con)"
   ]
  },
  {
   "cell_type": "code",
   "execution_count": 26,
   "id": "9f3f4b16",
   "metadata": {},
   "outputs": [
    {
     "data": {
      "text/html": [
       "<div>\n",
       "<style scoped>\n",
       "    .dataframe tbody tr th:only-of-type {\n",
       "        vertical-align: middle;\n",
       "    }\n",
       "\n",
       "    .dataframe tbody tr th {\n",
       "        vertical-align: top;\n",
       "    }\n",
       "\n",
       "    .dataframe thead th {\n",
       "        text-align: right;\n",
       "    }\n",
       "</style>\n",
       "<table border=\"1\" class=\"dataframe\">\n",
       "  <thead>\n",
       "    <tr style=\"text-align: right;\">\n",
       "      <th></th>\n",
       "      <th>ProductID</th>\n",
       "      <th>ProductName</th>\n",
       "      <th>SupplierID</th>\n",
       "      <th>CategoryID</th>\n",
       "      <th>Unit</th>\n",
       "      <th>Price</th>\n",
       "    </tr>\n",
       "  </thead>\n",
       "  <tbody>\n",
       "    <tr>\n",
       "      <th>0</th>\n",
       "      <td>78</td>\n",
       "      <td>Queso Crema</td>\n",
       "      <td>2</td>\n",
       "      <td>4</td>\n",
       "      <td>1 kg pkg.</td>\n",
       "      <td>30.0</td>\n",
       "    </tr>\n",
       "    <tr>\n",
       "      <th>1</th>\n",
       "      <td>78</td>\n",
       "      <td>Queso Crema</td>\n",
       "      <td>2</td>\n",
       "      <td>4</td>\n",
       "      <td>1 kg pkg.</td>\n",
       "      <td>30.0</td>\n",
       "    </tr>\n",
       "    <tr>\n",
       "      <th>2</th>\n",
       "      <td>78</td>\n",
       "      <td>Queso Crema</td>\n",
       "      <td>2</td>\n",
       "      <td>4</td>\n",
       "      <td>1 kg pkg.</td>\n",
       "      <td>30.0</td>\n",
       "    </tr>\n",
       "    <tr>\n",
       "      <th>3</th>\n",
       "      <td>78</td>\n",
       "      <td>Queso Crema</td>\n",
       "      <td>2</td>\n",
       "      <td>4</td>\n",
       "      <td>1 kg pkg.</td>\n",
       "      <td>30.0</td>\n",
       "    </tr>\n",
       "    <tr>\n",
       "      <th>4</th>\n",
       "      <td>78</td>\n",
       "      <td>Queso Crema</td>\n",
       "      <td>2</td>\n",
       "      <td>4</td>\n",
       "      <td>1 kg pkg.</td>\n",
       "      <td>30.0</td>\n",
       "    </tr>\n",
       "    <tr>\n",
       "      <th>5</th>\n",
       "      <td>78</td>\n",
       "      <td>Queso Crema</td>\n",
       "      <td>2</td>\n",
       "      <td>4</td>\n",
       "      <td>1 kg pkg.</td>\n",
       "      <td>30.0</td>\n",
       "    </tr>\n",
       "    <tr>\n",
       "      <th>6</th>\n",
       "      <td>79</td>\n",
       "      <td>Queso Crema</td>\n",
       "      <td>2</td>\n",
       "      <td>4</td>\n",
       "      <td>1 kg pkg.</td>\n",
       "      <td>30.0</td>\n",
       "    </tr>\n",
       "  </tbody>\n",
       "</table>\n",
       "</div>"
      ],
      "text/plain": [
       "   ProductID  ProductName  SupplierID  CategoryID       Unit  Price\n",
       "0         78  Queso Crema           2           4  1 kg pkg.   30.0\n",
       "1         78  Queso Crema           2           4  1 kg pkg.   30.0\n",
       "2         78  Queso Crema           2           4  1 kg pkg.   30.0\n",
       "3         78  Queso Crema           2           4  1 kg pkg.   30.0\n",
       "4         78  Queso Crema           2           4  1 kg pkg.   30.0\n",
       "5         78  Queso Crema           2           4  1 kg pkg.   30.0\n",
       "6         79  Queso Crema           2           4  1 kg pkg.   30.0"
      ]
     },
     "execution_count": 26,
     "metadata": {},
     "output_type": "execute_result"
    }
   ],
   "source": [
    "new_data"
   ]
  },
  {
   "cell_type": "code",
   "execution_count": 27,
   "id": "667f1255",
   "metadata": {},
   "outputs": [
    {
     "data": {
      "text/html": [
       "<div>\n",
       "<style scoped>\n",
       "    .dataframe tbody tr th:only-of-type {\n",
       "        vertical-align: middle;\n",
       "    }\n",
       "\n",
       "    .dataframe tbody tr th {\n",
       "        vertical-align: top;\n",
       "    }\n",
       "\n",
       "    .dataframe thead th {\n",
       "        text-align: right;\n",
       "    }\n",
       "</style>\n",
       "<table border=\"1\" class=\"dataframe\">\n",
       "  <thead>\n",
       "    <tr style=\"text-align: right;\">\n",
       "      <th></th>\n",
       "      <th>ProductID</th>\n",
       "      <th>ProductName</th>\n",
       "      <th>SupplierID</th>\n",
       "      <th>CategoryID</th>\n",
       "      <th>Unit</th>\n",
       "      <th>Price</th>\n",
       "    </tr>\n",
       "  </thead>\n",
       "  <tbody>\n",
       "    <tr>\n",
       "      <th>0</th>\n",
       "      <td>78</td>\n",
       "      <td>Queso Crema</td>\n",
       "      <td>2</td>\n",
       "      <td>4</td>\n",
       "      <td>1 kg pkg.</td>\n",
       "      <td>28.5</td>\n",
       "    </tr>\n",
       "    <tr>\n",
       "      <th>1</th>\n",
       "      <td>78</td>\n",
       "      <td>Queso Crema</td>\n",
       "      <td>2</td>\n",
       "      <td>4</td>\n",
       "      <td>1 kg pkg.</td>\n",
       "      <td>28.5</td>\n",
       "    </tr>\n",
       "    <tr>\n",
       "      <th>2</th>\n",
       "      <td>78</td>\n",
       "      <td>Queso Crema</td>\n",
       "      <td>2</td>\n",
       "      <td>4</td>\n",
       "      <td>1 kg pkg.</td>\n",
       "      <td>28.5</td>\n",
       "    </tr>\n",
       "    <tr>\n",
       "      <th>3</th>\n",
       "      <td>78</td>\n",
       "      <td>Queso Crema</td>\n",
       "      <td>2</td>\n",
       "      <td>4</td>\n",
       "      <td>1 kg pkg.</td>\n",
       "      <td>28.5</td>\n",
       "    </tr>\n",
       "    <tr>\n",
       "      <th>4</th>\n",
       "      <td>78</td>\n",
       "      <td>Queso Crema</td>\n",
       "      <td>2</td>\n",
       "      <td>4</td>\n",
       "      <td>1 kg pkg.</td>\n",
       "      <td>28.5</td>\n",
       "    </tr>\n",
       "    <tr>\n",
       "      <th>5</th>\n",
       "      <td>78</td>\n",
       "      <td>Queso Crema</td>\n",
       "      <td>2</td>\n",
       "      <td>4</td>\n",
       "      <td>1 kg pkg.</td>\n",
       "      <td>28.5</td>\n",
       "    </tr>\n",
       "    <tr>\n",
       "      <th>6</th>\n",
       "      <td>79</td>\n",
       "      <td>Queso Crema</td>\n",
       "      <td>2</td>\n",
       "      <td>4</td>\n",
       "      <td>1 kg pkg.</td>\n",
       "      <td>28.5</td>\n",
       "    </tr>\n",
       "  </tbody>\n",
       "</table>\n",
       "</div>"
      ],
      "text/plain": [
       "   ProductID  ProductName  SupplierID  CategoryID       Unit  Price\n",
       "0         78  Queso Crema           2           4  1 kg pkg.   28.5\n",
       "1         78  Queso Crema           2           4  1 kg pkg.   28.5\n",
       "2         78  Queso Crema           2           4  1 kg pkg.   28.5\n",
       "3         78  Queso Crema           2           4  1 kg pkg.   28.5\n",
       "4         78  Queso Crema           2           4  1 kg pkg.   28.5\n",
       "5         78  Queso Crema           2           4  1 kg pkg.   28.5\n",
       "6         79  Queso Crema           2           4  1 kg pkg.   28.5"
      ]
     },
     "execution_count": 27,
     "metadata": {},
     "output_type": "execute_result"
    }
   ],
   "source": [
    "new_data['Price'] = new_data['Price'] * .95\n",
    "new_data"
   ]
  },
  {
   "cell_type": "code",
   "execution_count": 29,
   "id": "4aa1156c",
   "metadata": {},
   "outputs": [
    {
     "name": "stdout",
     "output_type": "stream",
     "text": [
      "Algo anduvo mal :|\n"
     ]
    }
   ],
   "source": [
    "try:\n",
    "    new_data.to_sql('products', con, if_exists='fail',\n",
    "                index=True, index_label=None, chunksize=None, dtype=None, method=None)\n",
    "except:\n",
    "    print(\"Algo anduvo mal :|\")"
   ]
  },
  {
   "cell_type": "code",
   "execution_count": 30,
   "id": "404712f3",
   "metadata": {},
   "outputs": [],
   "source": [
    "new_data.to_sql(\"products\", con, schema=None, \n",
    "                if_exists='append', index=False, index_label=None, chunksize=None, dtype=None, method=None)"
   ]
  }
 ],
 "metadata": {
  "kernelspec": {
   "display_name": "Python 3",
   "language": "python",
   "name": "python3"
  },
  "language_info": {
   "codemirror_mode": {
    "name": "ipython",
    "version": 3
   },
   "file_extension": ".py",
   "mimetype": "text/x-python",
   "name": "python",
   "nbconvert_exporter": "python",
   "pygments_lexer": "ipython3",
   "version": "3.9.2"
  }
 },
 "nbformat": 4,
 "nbformat_minor": 5
}
