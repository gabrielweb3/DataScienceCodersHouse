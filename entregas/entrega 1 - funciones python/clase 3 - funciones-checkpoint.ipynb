{
 "cells": [
  {
   "cell_type": "code",
   "execution_count": 2,
   "metadata": {},
   "outputs": [
    {
     "name": "stdout",
     "output_type": "stream",
     "text": [
      "5! =  120\n",
      "10! =  3628800\n"
     ]
    }
   ],
   "source": [
    "\"\"\"\n",
    "Desafio: PRACTICA CON FUNCIONES\n",
    "\n",
    "1.Escribir una función para calcular el factorial de un número cualquiera.\n",
    "2.Escribir una función para calcular la suma de una serie comenzando por un \n",
    "  número cualquiera y terminando en otro número que debe ser mayor al primero.\n",
    "\n",
    "Alumno: Gabriel Olivera\n",
    "\n",
    "Curso: Data Science\n",
    "Academia: CoderHouse\n",
    "Camada: 14125\n",
    "Profesor: David Gabriel Algorta\n",
    "Tutor: Gianluca Peretti\n",
    "Año: 2021\n",
    "\n",
    "\"\"\"\n",
    "# 1\n",
    "def calcular_factorial(numero):\n",
    "    \n",
    "    factorial = 1\n",
    "    for n in range(1, numero+1):\n",
    "        factorial = factorial*n\n",
    "    return print(f\"{n}! = \" , factorial)\n",
    "    \n",
    "calcular_factorial(5)\n",
    "calcular_factorial(10)\n"
   ]
  },
  {
   "cell_type": "code",
   "execution_count": 3,
   "metadata": {},
   "outputs": [
    {
     "name": "stdout",
     "output_type": "stream",
     "text": [
      "3 + 5 =  8\n",
      "No se puede sumar los numeros seleccionados, escriba el numero menor en el primer lugar\n"
     ]
    }
   ],
   "source": [
    "# 2\n",
    "def suma(n1,n2):\n",
    "    \n",
    "    if n1 < n2:\n",
    "        suma = n1 + n2\n",
    "        return print(f\"{n1} + {n2} = \",suma)\n",
    "    else:\n",
    "        return print('No se puede sumar los numeros seleccionados, escriba el numero menor en el primer lugar')\n",
    "\n",
    "suma(3, 5)\n",
    "suma(4,2)"
   ]
  },
  {
   "cell_type": "code",
   "execution_count": null,
   "metadata": {},
   "outputs": [],
   "source": []
  }
 ],
 "metadata": {
  "kernelspec": {
   "display_name": "Python 3",
   "language": "python",
   "name": "python3"
  },
  "language_info": {
   "codemirror_mode": {
    "name": "ipython",
    "version": 3
   },
   "file_extension": ".py",
   "mimetype": "text/x-python",
   "name": "python",
   "nbconvert_exporter": "python",
   "pygments_lexer": "ipython3",
   "version": "3.8.3"
  }
 },
 "nbformat": 4,
 "nbformat_minor": 4
}
