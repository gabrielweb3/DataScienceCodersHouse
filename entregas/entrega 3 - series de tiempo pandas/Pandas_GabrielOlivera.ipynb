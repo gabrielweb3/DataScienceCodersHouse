{
 "cells": [
  {
   "cell_type": "code",
   "execution_count": null,
   "metadata": {},
   "outputs": [],
   "source": [
    "\"\"\"\n",
    "ENTREGA 3\n",
    "Series de tiempo con pandas\n",
    "\n",
    "1-Con este archivo, construir un objeto de series de tiempo con el índice\n",
    "    igual al año de los juegos olímpicos\n",
    "2-Separar nombres de apellidos en dos columnas distintas usando la coma como separador\n",
    "3-Obtener medidas resumen del conjunto de datos.\n",
    "    Cuál es el país que ganó más medallas?\n",
    "4-Construir una tabla que muestre cuántas medallas obtuvieron\n",
    "    los hombres en total en cada año que se realizó el evento.\n",
    "\n",
    "\"\"\"\n",
    "import pandas as pd\n",
    "\n",
    "# levantar archivo\n",
    "medallero = pd.read_csv('Summer-Olympic-medals-1976-to-2008.csv',encoding='latin-1')\n",
    "\n",
    "\n",
    "# datetimes de inicio y fin\n",
    "inicio = pd.to_datetime(str(int(medallero['Year'][0])))\n",
    "fin = pd.to_datetime(str(int(medallero['Year'][-1:])))\n",
    "print('Inicio:',inicio,', Fin:',fin)\n",
    "# rango de tiempo\n",
    "rango_tiempo = pd.date_range(start=inicio,end=fin,periods=((medallero['Year'].max()-medallero['Year'].min())/4)+1)\n",
    "\n",
    "# creo y limpio dataframe\n",
    "anos_olimpicos = pd.DataFrame(index=rango_tiempo.year) # dataframe con index igual al ano de los JJOO\n",
    "# anos_olimpicos = pd.DataFrame(medallero['Year'].unique())\n",
    "# anos_olimpicos = anos_olimpicos.dropna()\n",
    "# anos_olimpicos = anos_olimpicos.astype(int)\n",
    "\n",
    "# dataframe con fechas de index\n",
    "# medallero_2 = pd.DataFrame(index=anos_olimpicos[0])\n",
    "\n",
    "# divir columna de atletas\n",
    "medallero[\"Nombre\"], medallero[\"Apellido\"] = medallero[\"Athlete\"].str.split(\",\", 1).str\n",
    "\n",
    "# resumenes de datos\n",
    "\n",
    "# pais con mas medallas \n",
    "# medallero['Year'] = medallero['Year'].astype(int)\n",
    "medallas_pais = pd.DataFrame(medallero.groupby(['Country'])['Medal'].count()) \n",
    "medallas_pais = medallas_pais.sort_values('Medal',ascending=False)\n",
    "print(medallas_pais.head(10))\n",
    "\n",
    "# total de medallas de hombre por ano\n",
    "medallas_genero = pd.DataFrame(medallero.groupby(['Gender','Year'])['Medal'].count())\n",
    "# print(medallas_genero.index[0],medallas_genero['Medal'][0],'Medallas')"
   ]
  }
 ],
 "metadata": {
  "kernelspec": {
   "display_name": "Python 3",
   "language": "python",
   "name": "python3"
  },
  "language_info": {
   "codemirror_mode": {
    "name": "ipython",
    "version": 3
   },
   "file_extension": ".py",
   "mimetype": "text/x-python",
   "name": "python",
   "nbconvert_exporter": "python",
   "pygments_lexer": "ipython3",
   "version": "3.8.3"
  }
 },
 "nbformat": 4,
 "nbformat_minor": 4
}
