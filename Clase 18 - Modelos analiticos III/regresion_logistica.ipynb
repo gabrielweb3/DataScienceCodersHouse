{
 "cells": [
  {
   "cell_type": "markdown",
   "metadata": {
    "id": "_9W3dTt4PDZa"
   },
   "source": [
    "# Regresión Logística - Clasificación\n",
    "\n",
    "Como vimos previamente en clase, podemos enfrentarnos a problemas donde tengamos que relacionar variables numéricas contra algún valor categórico que puede tomar dos o más valores.\n",
    "\n",
    "A este tipo de problemas los llamamos de clasificación y podemos atacarlos usando muchas herramientas de ML. No obstante, acá sólo veremos una, simple, pero ampliamente utilizada (incluso como pieza fundamental de algoritmos más complejos): **regresión logística**\n",
    "\n",
    "\n"
   ]
  },
  {
   "cell_type": "code",
   "execution_count": 1,
   "metadata": {
    "id": "8Yns3n3BQD9f"
   },
   "outputs": [],
   "source": [
    "import pandas as pd # Para manejo de base de datos\n",
    "import numpy as np # Para manejo de arrays, operaciones matemáticas, etc.\n",
    "import matplotlib.pylab as plt # Para gráficos\n",
    "from sklearn.linear_model import LogisticRegression # El método de regresión logística que vamos a usar\n",
    "# Módulos utiles para evaluar el modelo \n",
    "from sklearn.model_selection import train_test_split # Para separar en train y test\n",
    "from sklearn.metrics import plot_confusion_matrix\n",
    "from sklearn.datasets import load_breast_cancer"
   ]
  },
  {
   "cell_type": "markdown",
   "metadata": {
    "id": "Q08wn769YTRN"
   },
   "source": [
    "Ahora, traigamos el data set. "
   ]
  },
  {
   "cell_type": "code",
   "execution_count": 7,
   "metadata": {},
   "outputs": [],
   "source": [
    "cancer = load_breast_cancer()\n",
    "df = pd.DataFrame(np.c_[cancer['data'], cancer['target']],\n",
    "                  columns= np.append(cancer['feature_names'], ['target']))"
   ]
  },
  {
   "cell_type": "code",
   "execution_count": 8,
   "metadata": {
    "colab": {
     "base_uri": "https://localhost:8080/",
     "height": 330
    },
    "id": "9SOE2JB-WRLE",
    "outputId": "38e3d6ad-7df4-41b3-c353-f961140bb7a8"
   },
   "outputs": [
    {
     "name": "stdout",
     "output_type": "stream",
     "text": [
      "Dimensión del dataset: (569, 31)\n"
     ]
    },
    {
     "data": {
      "text/html": [
       "<div>\n",
       "<style scoped>\n",
       "    .dataframe tbody tr th:only-of-type {\n",
       "        vertical-align: middle;\n",
       "    }\n",
       "\n",
       "    .dataframe tbody tr th {\n",
       "        vertical-align: top;\n",
       "    }\n",
       "\n",
       "    .dataframe thead th {\n",
       "        text-align: right;\n",
       "    }\n",
       "</style>\n",
       "<table border=\"1\" class=\"dataframe\">\n",
       "  <thead>\n",
       "    <tr style=\"text-align: right;\">\n",
       "      <th></th>\n",
       "      <th>mean radius</th>\n",
       "      <th>mean texture</th>\n",
       "      <th>mean perimeter</th>\n",
       "      <th>mean area</th>\n",
       "      <th>mean smoothness</th>\n",
       "      <th>mean compactness</th>\n",
       "      <th>mean concavity</th>\n",
       "      <th>mean concave points</th>\n",
       "      <th>mean symmetry</th>\n",
       "      <th>mean fractal dimension</th>\n",
       "      <th>...</th>\n",
       "      <th>worst texture</th>\n",
       "      <th>worst perimeter</th>\n",
       "      <th>worst area</th>\n",
       "      <th>worst smoothness</th>\n",
       "      <th>worst compactness</th>\n",
       "      <th>worst concavity</th>\n",
       "      <th>worst concave points</th>\n",
       "      <th>worst symmetry</th>\n",
       "      <th>worst fractal dimension</th>\n",
       "      <th>target</th>\n",
       "    </tr>\n",
       "  </thead>\n",
       "  <tbody>\n",
       "    <tr>\n",
       "      <th>0</th>\n",
       "      <td>17.99</td>\n",
       "      <td>10.38</td>\n",
       "      <td>122.8</td>\n",
       "      <td>1001.0</td>\n",
       "      <td>0.11840</td>\n",
       "      <td>0.27760</td>\n",
       "      <td>0.3001</td>\n",
       "      <td>0.14710</td>\n",
       "      <td>0.2419</td>\n",
       "      <td>0.07871</td>\n",
       "      <td>...</td>\n",
       "      <td>17.33</td>\n",
       "      <td>184.6</td>\n",
       "      <td>2019.0</td>\n",
       "      <td>0.1622</td>\n",
       "      <td>0.6656</td>\n",
       "      <td>0.7119</td>\n",
       "      <td>0.2654</td>\n",
       "      <td>0.4601</td>\n",
       "      <td>0.11890</td>\n",
       "      <td>0.0</td>\n",
       "    </tr>\n",
       "    <tr>\n",
       "      <th>1</th>\n",
       "      <td>20.57</td>\n",
       "      <td>17.77</td>\n",
       "      <td>132.9</td>\n",
       "      <td>1326.0</td>\n",
       "      <td>0.08474</td>\n",
       "      <td>0.07864</td>\n",
       "      <td>0.0869</td>\n",
       "      <td>0.07017</td>\n",
       "      <td>0.1812</td>\n",
       "      <td>0.05667</td>\n",
       "      <td>...</td>\n",
       "      <td>23.41</td>\n",
       "      <td>158.8</td>\n",
       "      <td>1956.0</td>\n",
       "      <td>0.1238</td>\n",
       "      <td>0.1866</td>\n",
       "      <td>0.2416</td>\n",
       "      <td>0.1860</td>\n",
       "      <td>0.2750</td>\n",
       "      <td>0.08902</td>\n",
       "      <td>0.0</td>\n",
       "    </tr>\n",
       "    <tr>\n",
       "      <th>2</th>\n",
       "      <td>19.69</td>\n",
       "      <td>21.25</td>\n",
       "      <td>130.0</td>\n",
       "      <td>1203.0</td>\n",
       "      <td>0.10960</td>\n",
       "      <td>0.15990</td>\n",
       "      <td>0.1974</td>\n",
       "      <td>0.12790</td>\n",
       "      <td>0.2069</td>\n",
       "      <td>0.05999</td>\n",
       "      <td>...</td>\n",
       "      <td>25.53</td>\n",
       "      <td>152.5</td>\n",
       "      <td>1709.0</td>\n",
       "      <td>0.1444</td>\n",
       "      <td>0.4245</td>\n",
       "      <td>0.4504</td>\n",
       "      <td>0.2430</td>\n",
       "      <td>0.3613</td>\n",
       "      <td>0.08758</td>\n",
       "      <td>0.0</td>\n",
       "    </tr>\n",
       "  </tbody>\n",
       "</table>\n",
       "<p>3 rows × 31 columns</p>\n",
       "</div>"
      ],
      "text/plain": [
       "   mean radius  mean texture  mean perimeter  mean area  mean smoothness  \\\n",
       "0        17.99         10.38           122.8     1001.0          0.11840   \n",
       "1        20.57         17.77           132.9     1326.0          0.08474   \n",
       "2        19.69         21.25           130.0     1203.0          0.10960   \n",
       "\n",
       "   mean compactness  mean concavity  mean concave points  mean symmetry  \\\n",
       "0           0.27760          0.3001              0.14710         0.2419   \n",
       "1           0.07864          0.0869              0.07017         0.1812   \n",
       "2           0.15990          0.1974              0.12790         0.2069   \n",
       "\n",
       "   mean fractal dimension  ...  worst texture  worst perimeter  worst area  \\\n",
       "0                 0.07871  ...          17.33            184.6      2019.0   \n",
       "1                 0.05667  ...          23.41            158.8      1956.0   \n",
       "2                 0.05999  ...          25.53            152.5      1709.0   \n",
       "\n",
       "   worst smoothness  worst compactness  worst concavity  worst concave points  \\\n",
       "0            0.1622             0.6656           0.7119                0.2654   \n",
       "1            0.1238             0.1866           0.2416                0.1860   \n",
       "2            0.1444             0.4245           0.4504                0.2430   \n",
       "\n",
       "   worst symmetry  worst fractal dimension  target  \n",
       "0          0.4601                  0.11890     0.0  \n",
       "1          0.2750                  0.08902     0.0  \n",
       "2          0.3613                  0.08758     0.0  \n",
       "\n",
       "[3 rows x 31 columns]"
      ]
     },
     "execution_count": 8,
     "metadata": {},
     "output_type": "execute_result"
    }
   ],
   "source": [
    "print('Dimensión del dataset: {}'.format(df.shape))\n",
    "# Inspección de los primeros datos\n",
    "df.head(3)"
   ]
  },
  {
   "cell_type": "code",
   "execution_count": 9,
   "metadata": {},
   "outputs": [
    {
     "name": "stdout",
     "output_type": "stream",
     "text": [
      "Etiquetas [0. 1.]\n",
      "Frecuencias [212 357]\n"
     ]
    }
   ],
   "source": [
    "labels, counts = np.unique(df['target'], return_counts=True) # Función que devuelve las etiquetas y las frecuencias\n",
    "\n",
    "print('Etiquetas {}'.format(labels))\n",
    "print('Frecuencias {}'.format(counts))"
   ]
  },
  {
   "cell_type": "markdown",
   "metadata": {
    "id": "FwkfgrHfc2Kc"
   },
   "source": [
    "# El Modelo\n",
    "\n",
    "Ya estamos listos para poder jugar con sklearn y la clasificación."
   ]
  },
  {
   "cell_type": "markdown",
   "metadata": {
    "id": "052wygsvCs7k"
   },
   "source": [
    "### Antes, recordatorio\n",
    "\n",
    "$$P(y |x, \\beta) = \\frac{1}{1 + e^{-(\\beta_0 + \\beta_1 \\cdot x)}}$$\n",
    "\n",
    "es lo que llamamos función sigmoidea para el caso de tener un único feature"
   ]
  },
  {
   "cell_type": "code",
   "execution_count": 24,
   "metadata": {
    "colab": {
     "base_uri": "https://localhost:8080/"
    },
    "id": "VQmzLvnccF4r",
    "outputId": "f1dc8e61-e12d-4a3c-da14-caf6f7576d80"
   },
   "outputs": [
    {
     "name": "stdout",
     "output_type": "stream",
     "text": [
      "Dimensión de la matriz de features para entrenamiento: (455, 1)\n",
      "Dimensión de la matriz de features para testeo: (114, 1)\n",
      "Score en el set de entrenamiento: 0.8725274725274725\n",
      "Score en el set de testeo: 0.9122807017543859\n"
     ]
    }
   ],
   "source": [
    "random_seed = 7\n",
    "# Lista de features que vamos a considerar \n",
    "features = ['mean radius']\n",
    "\n",
    "# Variable a predecir\n",
    "target = 'target'\n",
    "\n",
    "# Construcción de la matriz de features\n",
    "X = df[features].to_numpy()\n",
    "\n",
    "# Construcción del vector a predecir\n",
    "y = df[target].to_numpy()\n",
    "# Creacion de las matrices de entrenamiento y testeo. \n",
    "X_train, X_test, y_train, y_test = train_test_split(X, y, test_size = 0.20, random_state=random_seed)\n",
    "print('Dimensión de la matriz de features para entrenamiento: {}'.format(X_train.shape))\n",
    "print('Dimensión de la matriz de features para testeo: {}'.format(X_test.shape))\n",
    "\n",
    "regLog = LogisticRegression(penalty = 'none')   \n",
    "\n",
    "regLog.fit(X_train,  y_train)\n",
    "\n",
    "score_in_train = regLog.score(X_train, y_train) # Es el score del ajuste \n",
    "\n",
    "# coeficientes estimados en regresion logistica\n",
    "beta_0 = regLog.intercept_ # Es el método para obtener el beta 0\n",
    "beta_1 = regLog.coef_ # Es el método para obtener el beta 1\n",
    "\n",
    "# Score del modelo en el conjunto de testeo\n",
    "score_in_test = regLog.score(X_test, y_test)\n",
    "\n",
    "print('Score en el set de entrenamiento: {}'.format(score_in_train))\n",
    "print('Score en el set de testeo: {}'.format(score_in_test))\n"
   ]
  },
  {
   "cell_type": "code",
   "execution_count": 25,
   "metadata": {},
   "outputs": [
    {
     "data": {
      "image/png": "[encoded data removed]",
      "text/plain": [
       "<Figure size 432x288 with 2 Axes>"
      ]
     },
     "metadata": {
      "needs_background": "light"
     },
     "output_type": "display_data"
    }
   ],
   "source": [
    "# score de entrenamiento < score testeo, no suele ser asi\n",
    "# por que?\n",
    "# se prueba cambiar de semilla\n",
    "# \n",
    "plot_confusion_matrix(regLog, X_test, y_test)  \n",
    "plt.show()"
   ]
  },
  {
   "cell_type": "code",
   "execution_count": 26,
   "metadata": {
    "colab": {
     "base_uri": "https://localhost:8080/",
     "height": 444
    },
    "id": "LeDNoAvFgQ-U",
    "outputId": "304991e4-4b5d-482e-8d7f-ac55c82d9009"
   },
   "outputs": [
    {
     "data": {
      "image/png": "[encoded data removed]",
      "text/plain": [
       "<Figure size 720x504 with 1 Axes>"
      ]
     },
     "metadata": {
      "needs_background": "light"
     },
     "output_type": "display_data"
    }
   ],
   "source": [
    "fig, ax = plt.subplots(figsize = (10,7)) # Generamos la figura\n",
    "ax.set_title('Mi primera Regresión Logística')\n",
    "\n",
    "ax.scatter(X, # Los valores X\n",
    "          1 / (1 + np.e ** -(beta_1 * X + beta_0)), # Las predicciones sobre los valores X\n",
    "          label = 'Regresión Logística', \n",
    "          )\n",
    "\n",
    "ax.scatter(X, # Los valores X\n",
    "           y, # Los valores reales de Y\n",
    "           label = 'Datos Reales'\n",
    "           )\n",
    "ax.axvline(- beta_0 / beta_1, # La frontera de decisión. \n",
    "           color = 'k',\n",
    "           label = 'La frontera de decisión')\n",
    "ax.axhline(0.5,\n",
    "           linestyle = 'dashed',\n",
    "           color = 'k')\n",
    "ax.legend()\n",
    "plt.show()\n",
    "\n"
   ]
  },
  {
   "cell_type": "markdown",
   "metadata": {
    "id": "Cd9N1cjoxsA5"
   },
   "source": [
    "# Y si usamos más campos para el entrenamiento?"
   ]
  },
  {
   "cell_type": "code",
   "execution_count": 36,
   "metadata": {
    "colab": {
     "base_uri": "https://localhost:8080/"
    },
    "id": "ihvnrX5C_Nra",
    "outputId": "dedba51c-28e2-47bb-87c7-1e66f9ae5143",
    "scrolled": true
   },
   "outputs": [
    {
     "name": "stdout",
     "output_type": "stream",
     "text": [
      "Dimensión de la matriz de features para entrenamiento: (455, 3)\n",
      "Dimensión de la matriz de features para testeo: (114, 3)\n",
      "Score en el set de entrenamiento: 0.9384615384615385\n",
      "Score en el set de testeo: 0.9385964912280702\n"
     ]
    }
   ],
   "source": [
    "# Definamos la matriz X\n",
    "features = ['mean radius','worst texture','worst area'] # Lista que contiene las features de interés\n",
    "# Variable a predecir\n",
    "target = 'target'\n",
    "\n",
    "# Construcción de la matriz de features\n",
    "X = df[features].to_numpy()\n",
    "\n",
    "# Construcción del vector a predecir\n",
    "y = df[target].to_numpy()\n",
    "# Creacion de las matrices de entrenamiento y testeo. \n",
    "X_train, X_test, y_train, y_test = train_test_split(X, y, test_size = 0.20, random_state=random_seed)\n",
    "print('Dimensión de la matriz de features para entrenamiento: {}'.format(X_train.shape))\n",
    "print('Dimensión de la matriz de features para testeo: {}'.format(X_test.shape))\n",
    "\n",
    "regLog = LogisticRegression(penalty = 'none') # Inicializamos nuevamente el modelo\n",
    "regLog.fit(X_train,  y_train)\n",
    "\n",
    "score_in_train = regLog.score(X_train, y_train) # Es el score del ajuste \n",
    "beta_0 = regLog.intercept_ # El beta 0\n",
    "beta_1 = regLog.coef_[0][0] # El coeficiente beta_1\n",
    "beta_2 = regLog.coef_[0][1] # El coeficiente beta_2\n",
    "\n",
    "# Score del modelo en el conjunto de testeo\n",
    "score_in_test = regLog.score(X_test, y_test)\n",
    "\n",
    "print('Score en el set de entrenamiento: {}'.format(score_in_train))\n",
    "print('Score en el set de testeo: {}'.format(score_in_test))\n"
   ]
  },
  {
   "cell_type": "code",
   "execution_count": 37,
   "metadata": {},
   "outputs": [
    {
     "data": {
      "image/png": "[encoded data removed]",
      "text/plain": [
       "<Figure size 432x288 with 2 Axes>"
      ]
     },
     "metadata": {
      "needs_background": "light"
     },
     "output_type": "display_data"
    }
   ],
   "source": [
    "# no estoy en un caso de sobre ajuste\n",
    "# un tip para saber si estoy en sobreajuste es que el score de train es mucho mayor al de testeo\n",
    "\n",
    "plot_confusion_matrix(regLog, X_test, y_test)  \n",
    "plt.show()"
   ]
  },
  {
   "cell_type": "code",
   "execution_count": 35,
   "metadata": {
    "colab": {
     "base_uri": "https://localhost:8080/",
     "height": 459
    },
    "id": "ylLVXTgniIuq",
    "outputId": "9e6fd187-b4a5-4927-a8aa-f9fc74c96b7f"
   },
   "outputs": [
    {
     "data": {
      "image/png": "[encoded data removed]",
      "text/plain": [
       "<Figure size 720x504 with 1 Axes>"
      ]
     },
     "metadata": {
      "needs_background": "light"
     },
     "output_type": "display_data"
    }
   ],
   "source": [
    "# Miremos esto en un gráfico\n",
    "\n",
    "fig, ax = plt.subplots(figsize = (10,7))\n",
    "\n",
    "ax.set_title('Mi segunda Regresión Logística')\n",
    "ax.scatter(X[:,0], # Ploteamos la primera columna de nuestra matriz X. Osea, mean radius\n",
    "           X[:,1], # Ploteamos la segunda columna de nuestra matriz X. Osea, worst texture\n",
    "           c = y, # Les damos color a los puntos según la etiqueta real\n",
    "           cmap = 'Set3', # El mapa de color\n",
    "           )\n",
    "ax.set_xlabel('mean radius') # Etiqueta del eje x\n",
    "ax.set_ylabel('worst texture') # Etiqueta del eje y\n",
    "\n",
    "# Plotear la curva acá, no sería de mucho interés. Sí podríamos colorear un área como representación de la función P: R² ---> R\n",
    "# Plotiemos la frontera de decisión\n",
    "\n",
    "\n",
    "plt.show()"
   ]
  },
  {
   "cell_type": "code",
   "execution_count": null,
   "metadata": {},
   "outputs": [],
   "source": []
  },
  {
   "cell_type": "code",
   "execution_count": 119,
   "metadata": {},
   "outputs": [
    {
     "data": {
      "image/png": "[encoded data removed]",
      "text/plain": [
       "<Figure size 432x288 with 2 Axes>"
      ]
     },
     "metadata": {
      "needs_background": "light"
     },
     "output_type": "display_data"
    }
   ],
   "source": [
    "plot_confusion_matrix(regLog, X_test, y_test)  \n",
    "plt.show()"
   ]
  },
  {
   "cell_type": "markdown",
   "metadata": {
    "id": "xsOFm7iBtCgu"
   },
   "source": [
    "# Para llevarse de este Notebook\n",
    "\n",
    "\n",
    "*   Existe un objeto llamado LogisticRegression en scikit-learn que crea una instancia de regresión logística haciendo:\n",
    "\n",
    "```\n",
    "regLog = LogisticRegression(penalty = 'none') \n",
    "```\n",
    "\n",
    "*   Podemos entrenar a este objeto para un problema de **clasificación** haciendo:\n",
    "\n",
    "\n",
    "```\n",
    "regLog.fit(X,  y)\n",
    "```\n",
    "\n",
    "... donde X es la matriz de muestas (filas) por variables independientes (columnas), e y es un vector binario con las etiquetas de cada clase.\n",
    "\n",
    "\n",
    "\n",
    "*   Podemos obtener el score de la regresión logística haciendo:\n",
    "\n",
    "```\n",
    "score = regLog.score(X,y)\n",
    "```\n",
    "\n",
    "*   Y obtener los parámetros del modelo:\n",
    "\n",
    "\n",
    "```\n",
    "beta_0 = regLog.intercept_ # Es el método para obtener el beta 0\n",
    "beta_1 = regLog.coef_ # \n",
    "a```"
   ]
  },
  {
   "cell_type": "code",
   "execution_count": null,
   "metadata": {},
   "outputs": [],
   "source": []
  }
 ],
 "metadata": {
  "colab": {
   "collapsed_sections": [],
   "name": "Clase 20_04_21.ipynb",
   "provenance": []
  },
  "kernelspec": {
   "display_name": "Python 3",
   "language": "python",
   "name": "python3"
  },
  "language_info": {
   "codemirror_mode": {
    "name": "ipython",
    "version": 3
   },
   "file_extension": ".py",
   "mimetype": "text/x-python",
   "name": "python",
   "nbconvert_exporter": "python",
   "pygments_lexer": "ipython3",
   "version": "3.8.3"
  }
 },
 "nbformat": 4,
 "nbformat_minor": 1
}
