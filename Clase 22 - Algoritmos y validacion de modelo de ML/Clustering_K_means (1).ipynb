{
 "cells": [
  {
   "cell_type": "markdown",
   "metadata": {
    "id": "3huBjyoc_JIf"
   },
   "source": [
    "# Clase 16: Clustering K-means\n",
    "\n",
    "En esta notebook vamos a explorar dos métodos de clusterización vistos en la clase teórica. Los métodos de clusterización que veremos corresponden al rama de ML de aprendizaje no supervisado donde la idea principal es encontrar grupos en los datos que sean similares a otros datos del mismo grupo y lo menos similar posible a datos en otros. \n",
    "\n",
    "El método es el algoritmo de partición **K-Means** con la idea de segmentar las observaciones del famoso iris dataset"
   ]
  },
  {
   "cell_type": "code",
   "execution_count": 34,
   "metadata": {
    "id": "o3p5Og-CtYvG"
   },
   "outputs": [],
   "source": [
    "# importamos las librerías usuales de python\n",
    "import numpy as np\n",
    "import pandas as pd\n",
    "import matplotlib.pyplot as plt\n",
    "\n",
    "# importamos los algoritmos de clusterizacion a utilizar en esta notebook\n",
    "from sklearn.cluster import KMeans                    # K-means\n",
    "from sklearn.cluster import AgglomerativeClustering   # Clustering jerárquicofrom sklearn import preprocessing\n",
    "from sklearn import preprocessing"
   ]
  },
  {
   "cell_type": "code",
   "execution_count": 5,
   "metadata": {
    "id": "aJoOO6J9SVR9"
   },
   "outputs": [],
   "source": [
    "# Estandarizador (transforma las variables en z-scores)\n",
    "from sklearn.preprocessing import StandardScaler\n",
    "std_scale = StandardScaler() # Creamos el estandarizador"
   ]
  },
  {
   "cell_type": "markdown",
   "metadata": {
    "id": "R2718A0Hop2y"
   },
   "source": [
    "## [K-Means](https://scikit-learn.org/stable/modules/generated/sklearn.cluster.KMeans.html#sklearn.cluster.KMeans)\n",
    "\n",
    "El método de clusterización \"K-Means\" busca encontrar *k* clusters de modo tal que se minimice la varianza intra-cluster medida, usualmente, como el cuadrado de la distancia euclídea. Para ello el algoritmo:\n",
    "1) Empieza encontrando *k centroids* y le asigna a cada sample la etiqueta correspondiente a la del centroid más cercano. \n",
    "\n",
    "2) Una vez actualizadas las etiquetas de todas las samples, calcula la posición de los k centroids (como el promedio de las features de las samples de cada cluster). \n",
    "\n",
    "3) Vuelve a asignar etiquetas a cada sample de acuerdo a la distancia al centroid más cercano. \n",
    "\n",
    "4) Realiza el paso 2 y 3 hasta que no haya más cambios de etiqueta."
   ]
  },
  {
   "cell_type": "code",
   "execution_count": 7,
   "metadata": {},
   "outputs": [],
   "source": [
    "from sklearn.datasets import load_iris\n",
    "data = load_iris()\n",
    "species = [data['target_names'][x] for x in data['target']]\n",
    "df = pd.DataFrame(np.column_stack([data['data']]), columns=data['feature_names'])"
   ]
  },
  {
   "cell_type": "code",
   "execution_count": 8,
   "metadata": {},
   "outputs": [
    {
     "name": "stdout",
     "output_type": "stream",
     "text": [
      "Dimensión del dataset: (150, 4)\n"
     ]
    },
    {
     "data": {
      "text/html": [
       "<div>\n",
       "<style scoped>\n",
       "    .dataframe tbody tr th:only-of-type {\n",
       "        vertical-align: middle;\n",
       "    }\n",
       "\n",
       "    .dataframe tbody tr th {\n",
       "        vertical-align: top;\n",
       "    }\n",
       "\n",
       "    .dataframe thead th {\n",
       "        text-align: right;\n",
       "    }\n",
       "</style>\n",
       "<table border=\"1\" class=\"dataframe\">\n",
       "  <thead>\n",
       "    <tr style=\"text-align: right;\">\n",
       "      <th></th>\n",
       "      <th>sepal length (cm)</th>\n",
       "      <th>sepal width (cm)</th>\n",
       "      <th>petal length (cm)</th>\n",
       "      <th>petal width (cm)</th>\n",
       "    </tr>\n",
       "  </thead>\n",
       "  <tbody>\n",
       "    <tr>\n",
       "      <th>0</th>\n",
       "      <td>5.1</td>\n",
       "      <td>3.5</td>\n",
       "      <td>1.4</td>\n",
       "      <td>0.2</td>\n",
       "    </tr>\n",
       "    <tr>\n",
       "      <th>1</th>\n",
       "      <td>4.9</td>\n",
       "      <td>3.0</td>\n",
       "      <td>1.4</td>\n",
       "      <td>0.2</td>\n",
       "    </tr>\n",
       "    <tr>\n",
       "      <th>2</th>\n",
       "      <td>4.7</td>\n",
       "      <td>3.2</td>\n",
       "      <td>1.3</td>\n",
       "      <td>0.2</td>\n",
       "    </tr>\n",
       "  </tbody>\n",
       "</table>\n",
       "</div>"
      ],
      "text/plain": [
       "   sepal length (cm)  sepal width (cm)  petal length (cm)  petal width (cm)\n",
       "0                5.1               3.5                1.4               0.2\n",
       "1                4.9               3.0                1.4               0.2\n",
       "2                4.7               3.2                1.3               0.2"
      ]
     },
     "execution_count": 8,
     "metadata": {},
     "output_type": "execute_result"
    }
   ],
   "source": [
    "print('Dimensión del dataset: {}'.format(df.shape))\n",
    "# Inspección de los primeros datos\n",
    "df.head(3)"
   ]
  },
  {
   "cell_type": "code",
   "execution_count": 9,
   "metadata": {},
   "outputs": [],
   "source": [
    "# Construcción de la matriz de features\n",
    "X = df.to_numpy()"
   ]
  },
  {
   "cell_type": "code",
   "execution_count": 10,
   "metadata": {},
   "outputs": [],
   "source": [
    "# Normalizamos las features\n",
    "scaler_X = preprocessing.StandardScaler().fit(X)\n",
    "X_scaled = scaler_X.transform(X)"
   ]
  },
  {
   "cell_type": "code",
   "execution_count": 11,
   "metadata": {
    "colab": {
     "base_uri": "https://localhost:8080/"
    },
    "id": "_H064vuSfl2E",
    "outputId": "c9c94df2-b7ac-4420-f640-69ded50e2e6c"
   },
   "outputs": [
    {
     "data": {
      "text/plain": [
       "KMeans(n_clusters=5, random_state=7)"
      ]
     },
     "execution_count": 11,
     "metadata": {},
     "output_type": "execute_result"
    }
   ],
   "source": [
    "# probar otros números para k\n",
    "# Creación del modelo KMeans con k = 5\n",
    "random_state = 7\n",
    "kmeans = KMeans(n_clusters=5, random_state=random_state)\n",
    "\n",
    "# Ajuste del modelo a los datos reducidos en componentes principales\n",
    "kmeans.fit(X_scaled)"
   ]
  },
  {
   "cell_type": "markdown",
   "metadata": {
    "id": "Ca6nFmEe8KsA"
   },
   "source": [
    "Para acceder a las etiquetas que le asignó el modelo a cada sample usamos 'kmeans.labels_'"
   ]
  },
  {
   "cell_type": "code",
   "execution_count": 12,
   "metadata": {
    "colab": {
     "base_uri": "https://localhost:8080/"
    },
    "id": "qlcDkOQdf0Bn",
    "outputId": "0694ce16-dcd7-4cea-deda-bad2aebcf955"
   },
   "outputs": [
    {
     "data": {
      "text/plain": [
       "(array([2, 4]), array([4, 6], dtype=int64))"
      ]
     },
     "execution_count": 12,
     "metadata": {},
     "output_type": "execute_result"
    }
   ],
   "source": [
    "# Nos fijamos las etiquetas asignadas a las primeras 10 muestras y los counts que recibió cada una\n",
    "np.unique(kmeans.labels_[:10], return_counts=True) "
   ]
  },
  {
   "cell_type": "markdown",
   "metadata": {
    "id": "DDQpD2ON8YpK"
   },
   "source": [
    "Idealmente queríamos tener una sola etiqueta en las primeras 10 muestras ya que corresponden a las fotos tomadas a una dada persona. Sin embargo obtuvimos 6 etiquetas distintas. \n",
    "\n",
    "Veamos qué es lo que está pasando. Vamos a plotear el dataset en el espacio de las primeras dos componentes principales pero además vamos a asignarle un color a cada sample que corresponde a la etiqueta asignada por el modelo. También vamos a graficar con una \"X\" el centroid de cada cluster.\n",
    "\n",
    "Para acceder a la posición de los centroids en el espacio de 100 PCs usamos 'kmeans.cluster_centers_'"
   ]
  },
  {
   "cell_type": "code",
   "execution_count": 13,
   "metadata": {
    "colab": {
     "base_uri": "https://localhost:8080/"
    },
    "id": "gY3dR0koE15i",
    "outputId": "e700995b-35f7-4fe9-ba6f-de2ae2d5002d"
   },
   "outputs": [
    {
     "name": "stdout",
     "output_type": "stream",
     "text": [
      "Shape de los centroids: (5, 4)\n",
      "[[-3.64080601e-01 -1.41450432e+00  1.07774588e-01  8.77547895e-04]\n",
      " [ 3.57041325e-01 -3.94403793e-01  5.86562246e-01  5.48467435e-01]\n",
      " [-7.49221332e-01  1.43007001e+00 -1.29759846e+00 -1.22142131e+00]\n",
      " [ 1.39733017e+00  2.33160219e-01  1.16062026e+00  1.21734049e+00]\n",
      " [-1.35230687e+00  1.19144266e-01 -1.31439133e+00 -1.29749445e+00]]\n"
     ]
    }
   ],
   "source": [
    "# Guardo las posiciones de los centroids\n",
    "centroids = kmeans.cluster_centers_\n",
    "# Printeo las dimensiones de las posiciones\n",
    "print(\"Shape de los centroids:\",centroids.shape)\n",
    "print(centroids)"
   ]
  },
  {
   "cell_type": "code",
   "execution_count": 14,
   "metadata": {
    "colab": {
     "base_uri": "https://localhost:8080/",
     "height": 476
    },
    "id": "TuCEXjK2f64W",
    "outputId": "073ae0b2-bc0b-49d5-e477-a30a6dc2ec1e"
   },
   "outputs": [
    {
     "name": "stderr",
     "output_type": "stream",
     "text": [
      "No handles with labels found to put in legend.\n"
     ]
    },
    {
     "data": {
      "text/plain": [
       "Text(0, 0.5, 'sepal width (cm)')"
      ]
     },
     "execution_count": 14,
     "metadata": {},
     "output_type": "execute_result"
    },
    {
     "data": {
      "image/png": "[encoded data removed]",
      "text/plain": [
       "<Figure size 1080x504 with 1 Axes>"
      ]
     },
     "metadata": {
      "needs_background": "light"
     },
     "output_type": "display_data"
    }
   ],
   "source": [
    "# Este bloque es similar al anterior pero agregando color a cada sample en el scatter plot según la etiqueta asignada\n",
    "\n",
    "fig, ax = plt.subplots(figsize = (15, 7))\n",
    "\n",
    "# Hacemos un scatter plot de cada uno de los datos\n",
    "ax.scatter(df['sepal length (cm)'].to_numpy(), df['sepal width (cm)'].to_numpy(), c=kmeans.labels_)\n",
    "ax.legend()\n",
    "ax.set_xlabel('sepal length (cm)')\n",
    "ax.set_ylabel('sepal width (cm)')"
   ]
  },
  {
   "cell_type": "markdown",
   "metadata": {
    "id": "NjYFP1acCwBW"
   },
   "source": [
    "Vemos que varios de los clusters (ej: 11) sí corresponden a las fotos de una persona. Además en casi todos se puede entender por qué el método esta agrupando las fotos (ej: 9, se ven dientes en la sonrisa)"
   ]
  },
  {
   "cell_type": "markdown",
   "metadata": {
    "id": "R0d4eusHq10r"
   },
   "source": [
    "### Elección del número de clusters *k*\n",
    "\n",
    "No hay un consenso en cómo elegir el parámetro *k* para el método KMeans. En algunos casos tenemos una idea de en cuántos grupos deberían estar divididos nuestros datos y simplemente elegimos ese número. Pero en muchos otros casos esta información no la tenemos al momento de hacer el clustering.\n",
    "\n",
    "En esta parte vamos a ver dos approachs para la elección de k:\n",
    "1. Método del codo\n",
    "2. Coeficiente de Silhouette"
   ]
  },
  {
   "cell_type": "markdown",
   "metadata": {
    "id": "8sLSZZolKzJb"
   },
   "source": [
    "#### 1 [Método del codo](https://en.wikipedia.org/wiki/Elbow_method_(clustering)#:~:text=In%20cluster%20analysis%2C%20the%20elbow,number%20of%20clusters%20to%20use.)\n",
    "\n",
    "Se hace un grafico de la función objetivo en función de la elección de k y se elige el k correspondiente al punto donde agregar un cluster más no baja significativamente el valor que queremos minimizar. Esto se puede detectar a ojo o utilizando algún paquete de python como ['kneed'](https://raghavan.usc.edu//papers/kneedle-simplex11.pdf)"
   ]
  },
  {
   "cell_type": "code",
   "execution_count": null,
   "metadata": {},
   "outputs": [],
   "source": [
    "from kneed import KneeLocator # importamos el paquete para detectar el codo"
   ]
  },
  {
   "cell_type": "code",
   "execution_count": 19,
   "metadata": {
    "colab": {
     "base_uri": "https://localhost:8080/"
    },
    "id": "gP3XAo6wKxtn",
    "outputId": "860c89ac-2d5a-4950-e62c-4b99fc12d716",
    "scrolled": true
   },
   "outputs": [
    {
     "name": "stdout",
     "output_type": "stream",
     "text": [
      "1\n"
     ]
    },
    {
     "name": "stderr",
     "output_type": "stream",
     "text": [
      "C:\\ProgramData\\Anaconda3\\envs\\coder_house\\lib\\site-packages\\sklearn\\cluster\\_kmeans.py:881: UserWarning: KMeans is known to have a memory leak on Windows with MKL, when there are less chunks than available threads. You can avoid it by setting the environment variable OMP_NUM_THREADS=1.\n",
      "  warnings.warn(\n"
     ]
    },
    {
     "name": "stdout",
     "output_type": "stream",
     "text": [
      "2\n",
      "3\n",
      "4\n",
      "5\n",
      "6\n",
      "7\n",
      "8\n",
      "9\n",
      "10\n",
      "11\n",
      "12\n",
      "13\n",
      "14\n",
      "15\n",
      "16\n",
      "17\n",
      "18\n",
      "19\n",
      "20\n",
      "21\n",
      "22\n",
      "23\n",
      "24\n",
      "25\n",
      "26\n",
      "27\n",
      "28\n",
      "29\n",
      "30\n",
      "31\n",
      "32\n",
      "33\n",
      "34\n",
      "35\n",
      "36\n",
      "37\n",
      "38\n",
      "39\n"
     ]
    }
   ],
   "source": [
    "sse = [] # acá vamos a guardar el puntaje de la función objetivo\n",
    "\n",
    "for k in range(1, 40):\n",
    "  print(k)\n",
    "  kkmeans = KMeans(n_clusters=k)\n",
    "  kkmeans.fit(X_scaled)\n",
    "  sse.append(kkmeans.inertia_)"
   ]
  },
  {
   "cell_type": "markdown",
   "metadata": {
    "id": "Toc0L9xiMsEn"
   },
   "source": [
    "Vamos a graficar SEE en función del número de clusters k"
   ]
  },
  {
   "cell_type": "code",
   "execution_count": 26,
   "metadata": {
    "colab": {
     "base_uri": "https://localhost:8080/",
     "height": 463
    },
    "id": "gWCQ_ecnMfY5",
    "outputId": "d87af40c-0016-444c-9d92-598529f1ac9d"
   },
   "outputs": [
    {
     "data": {
      "text/plain": [
       "Text(0, 0.5, 'SSE')"
      ]
     },
     "execution_count": 26,
     "metadata": {},
     "output_type": "execute_result"
    },
    {
     "data": {
      "image/png": "[encoded data removed]",
      "text/plain": [
       "<Figure size 1080x504 with 1 Axes>"
      ]
     },
     "metadata": {
      "needs_background": "light"
     },
     "output_type": "display_data"
    }
   ],
   "source": [
    "fig, ax = plt.subplots(figsize = (15, 7))\n",
    "\n",
    "# esta dos lineas las agrego para que se vea la elección de KneeLocator para el codo en este gráfico\n",
    "ax.scatter(5, sse[4], color='red', s=200) # agregamos un punto rojo al plot de tamaño s=200 en el lugar donde se encuentra el codo\n",
    "ax.text(4.5, sse[4]-50, s=\"codo\")       # agregamos un texto abajo para indicar qué representa el punto\n",
    "\n",
    "# estas lineas son el grafico de SSEvsK\n",
    "ax.scatter(range(1, 40), sse)            \n",
    "ax.set_xticks(range(1, 40))\n",
    "ax.set_xlabel(\"Número de clusters\")\n",
    "ax.set_ylabel(\"SSE\")"
   ]
  },
  {
   "cell_type": "markdown",
   "metadata": {
    "id": "QiYXOQO1SUcB"
   },
   "source": [
    "En este plot podemos ver dos cosas:\n",
    "1. SSE es monótonamente decreciente: al agregar un cluster la distancia entre todas las samples a los centroides siempre va a reducirse\n",
    "2. A ojo distinguimos un codo entre k=4 y k=8 porque al agregar más clusters aumentamos la complejidad del modelo pero SEE disminuye en menor proporción"
   ]
  },
  {
   "cell_type": "markdown",
   "metadata": {
    "id": "jhWHLdlITyAb"
   },
   "source": [
    "Usamos la función 'KneeLocator' para detectar el codo. Para ello le tenemos que pasar los valores de K, SEE, la forma de la fución (cóncava o convexa) y la dirección (creciente o decreciente)"
   ]
  },
  {
   "cell_type": "code",
   "execution_count": 24,
   "metadata": {
    "colab": {
     "base_uri": "https://localhost:8080/"
    },
    "id": "TVYQi5TGNGiG",
    "outputId": "c4a9789e-cb60-4a9b-e386-df05e5eca698"
   },
   "outputs": [
    {
     "name": "stdout",
     "output_type": "stream",
     "text": [
      "El codo está en k = 5\n"
     ]
    }
   ],
   "source": [
    "kl = KneeLocator(range(1, 40), sse, curve=\"convex\", direction=\"decreasing\")\n",
    "\n",
    "print(\"El codo está en k =\", kl.elbow)"
   ]
  },
  {
   "cell_type": "code",
   "execution_count": 28,
   "metadata": {
    "colab": {
     "base_uri": "https://localhost:8080/",
     "height": 476
    },
    "id": "iVIl1atBsQlG",
    "outputId": "3b115036-dddc-482e-9f21-810909a3c085"
   },
   "outputs": [
    {
     "name": "stderr",
     "output_type": "stream",
     "text": [
      "No handles with labels found to put in legend.\n"
     ]
    },
    {
     "data": {
      "text/plain": [
       "Text(0, 0.5, 'sepal width (cm)')"
      ]
     },
     "execution_count": 28,
     "metadata": {},
     "output_type": "execute_result"
    },
    {
     "data": {
      "image/png": "[encoded data removed]",
      "text/plain": [
       "<Figure size 1080x504 with 1 Axes>"
      ]
     },
     "metadata": {
      "needs_background": "light"
     },
     "output_type": "display_data"
    }
   ],
   "source": [
    "# Creación del modelo KMeans con k = 8\n",
    "kmeans5 = KMeans(n_clusters=5)\n",
    "\n",
    "# Ajuste del modelo a los datos reducidos en componentes principales\n",
    "kmeans5.fit(X_scaled)\n",
    "\n",
    "# Guardamos la posición de los centroids\n",
    "centroids5 = kmeans5.cluster_centers_\n",
    "\n",
    "# Plot\n",
    "fig, ax = plt.subplots(figsize = (15, 7))\n",
    "\n",
    "# Hacemos un scatter plot de cada uno de los datos\n",
    "ax.scatter(X_scaled[:, 0], X_scaled[:, 1], c=kmeans5.labels_)\n",
    "ax.scatter(centroids5[:, 0], centroids5[:, 1], marker=\"X\", s=200, linewidths=2,\n",
    "            c=np.unique(kmeans5.labels_),edgecolors='black')\n",
    "ax.legend()\n",
    "ax.set_xlabel('sepal length (cm)')\n",
    "ax.set_ylabel('sepal width (cm)')"
   ]
  },
  {
   "cell_type": "markdown",
   "metadata": {
    "id": "fVLe-iflos_Y"
   },
   "source": [
    "#### 2 Coeficiente de Silhouette\n",
    "\n",
    "El coeficiente de Silhouette mide qué tan cerca está una muestra a las otras muestras de su cluster y qué tan lejos está con respecto a las muestras del cluster más cercano. Este coeficiente toma valores de [-1,1], -1 sería si los clusters están superpuestos y 1 que no se tocan.\n",
    "\n",
    "El coeficiente de Silhouette de cada sample la podemos obtener con la clase 'silhouette_samples' de sklearn.metrics\n",
    "\n",
    "El puntaje de Silhouette es el promedio de los coeficientes de Silhouette de todas las samples y se computa con la clase 'silhouette_score' de sklearn.metrics. Hay que pasarle a la función los datos y sus etiquetas."
   ]
  },
  {
   "cell_type": "code",
   "execution_count": 29,
   "metadata": {
    "id": "WGBz1g20owwS"
   },
   "outputs": [],
   "source": [
    "# importamos el puntaje de silhouette\n",
    "from sklearn.metrics import silhouette_score"
   ]
  },
  {
   "cell_type": "code",
   "execution_count": 30,
   "metadata": {
    "id": "vabTae7Ca3-f"
   },
   "outputs": [],
   "source": [
    "# Creamos una lista para guardar de los coeficientes de silhouette para cada valor de k\n",
    "silhouette_coefficients = []\n",
    "\n",
    "# Se necesita tener al menos 2 clusters y a los sumo N-1 (con N el numero de muestras) para obtener coeficientes de Silohuette\n",
    "for k in range(2, 20):\n",
    "     kkkmeans = KMeans(n_clusters=k)\n",
    "     kkkmeans.fit(X_scaled)\n",
    "     score = silhouette_score(X_scaled, kkkmeans.labels_)\n",
    "     silhouette_coefficients.append(score)"
   ]
  },
  {
   "cell_type": "markdown",
   "metadata": {
    "id": "fJwSyISBgo3o"
   },
   "source": [
    "Graficamos el puntaje de Silhouette en función de k"
   ]
  },
  {
   "cell_type": "code",
   "execution_count": 31,
   "metadata": {
    "colab": {
     "base_uri": "https://localhost:8080/",
     "height": 459
    },
    "id": "DsW2kdAKbQqk",
    "outputId": "0fd6db21-5bbd-4c38-fdf3-79fef13a7c64"
   },
   "outputs": [
    {
     "data": {
      "text/plain": [
       "Text(0, 0.5, 'Promedio coeficientes de Silhouette')"
      ]
     },
     "execution_count": 31,
     "metadata": {},
     "output_type": "execute_result"
    },
    {
     "data": {
      "image/png": "[encoded data removed]",
      "text/plain": [
       "<Figure size 1728x504 with 1 Axes>"
      ]
     },
     "metadata": {
      "needs_background": "light"
     },
     "output_type": "display_data"
    }
   ],
   "source": [
    "fig, ax = plt.subplots(figsize = (24, 7))\n",
    "\n",
    "# estas lineas son el grafico de SSEvsK\n",
    "ax.scatter(range(2, 20), silhouette_coefficients)            \n",
    "ax.set_xticks(range(2, 20))\n",
    "ax.set_xlabel(\"Número de clusters\")\n",
    "ax.set_ylabel(\"Promedio coeficientes de Silhouette\")"
   ]
  }
 ],
 "metadata": {
  "colab": {
   "collapsed_sections": [],
   "name": "Clase 16:  Clustering K-means y Jerárquico.ipynb",
   "provenance": [],
   "toc_visible": true
  },
  "kernelspec": {
   "display_name": "coder_house",
   "language": "python",
   "name": "coder_house"
  },
  "language_info": {
   "codemirror_mode": {
    "name": "ipython",
    "version": 3
   },
   "file_extension": ".py",
   "mimetype": "text/x-python",
   "name": "python",
   "nbconvert_exporter": "python",
   "pygments_lexer": "ipython3",
   "version": "3.8.5"
  }
 },
 "nbformat": 4,
 "nbformat_minor": 1
}
