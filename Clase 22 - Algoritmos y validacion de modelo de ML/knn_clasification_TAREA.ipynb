{
 "cells": [
  {
   "cell_type": "markdown",
   "metadata": {
    "id": "K206k1NOXZBi"
   },
   "source": [
    "\n",
    "# K Nearest Neighbor (KNN)\n"
   ]
  },
  {
   "cell_type": "code",
   "execution_count": 16,
   "metadata": {
    "colab": {
     "base_uri": "https://localhost:8080/"
    },
    "id": "cmDObkdjRNL-",
    "outputId": "bcd0aa4d-b547-4824-d48c-621c262229a5",
    "scrolled": true
   },
   "outputs": [],
   "source": [
    "# Cargamos las librerías típicas de python\n",
    "import numpy as np              # numpy para los arrays\n",
    "import pandas as pd \n",
    "from sklearn.metrics import accuracy_score\n",
    "from sklearn.neighbors import KNeighborsClassifier\n",
    "from sklearn.model_selection import train_test_split\n",
    "from sklearn.metrics import plot_confusion_matrix\n",
    "from sklearn import preprocessing\n",
    "import matplotlib.pyplot as plt\n",
    "import matplotlib as mpl"
   ]
  },
  {
   "cell_type": "markdown",
   "metadata": {
    "id": "E7soEEp5JRlL"
   },
   "source": [
    "# Cargamos el dataset"
   ]
  },
  {
   "cell_type": "code",
   "execution_count": 4,
   "metadata": {},
   "outputs": [],
   "source": [
    "df = pd.read_csv('C:/Users/gabri/OneDrive/Escritorio/Cursos/Data Science/DataScienceCodersHouse/Clase 22 - Algoritmos y validacion de modelo de ML/diabetes.csv')"
   ]
  },
  {
   "cell_type": "code",
   "execution_count": 5,
   "metadata": {
    "scrolled": true
   },
   "outputs": [
    {
     "data": {
      "text/html": [
       "<div>\n",
       "<style scoped>\n",
       "    .dataframe tbody tr th:only-of-type {\n",
       "        vertical-align: middle;\n",
       "    }\n",
       "\n",
       "    .dataframe tbody tr th {\n",
       "        vertical-align: top;\n",
       "    }\n",
       "\n",
       "    .dataframe thead th {\n",
       "        text-align: right;\n",
       "    }\n",
       "</style>\n",
       "<table border=\"1\" class=\"dataframe\">\n",
       "  <thead>\n",
       "    <tr style=\"text-align: right;\">\n",
       "      <th></th>\n",
       "      <th>Pregnancies</th>\n",
       "      <th>Glucose</th>\n",
       "      <th>BloodPressure</th>\n",
       "      <th>SkinThickness</th>\n",
       "      <th>Insulin</th>\n",
       "      <th>BMI</th>\n",
       "      <th>DiabetesPedigreeFunction</th>\n",
       "      <th>Age</th>\n",
       "      <th>Outcome</th>\n",
       "    </tr>\n",
       "  </thead>\n",
       "  <tbody>\n",
       "    <tr>\n",
       "      <th>0</th>\n",
       "      <td>6</td>\n",
       "      <td>148</td>\n",
       "      <td>72</td>\n",
       "      <td>35</td>\n",
       "      <td>0</td>\n",
       "      <td>33.6</td>\n",
       "      <td>0.627</td>\n",
       "      <td>50</td>\n",
       "      <td>1</td>\n",
       "    </tr>\n",
       "    <tr>\n",
       "      <th>1</th>\n",
       "      <td>1</td>\n",
       "      <td>85</td>\n",
       "      <td>66</td>\n",
       "      <td>29</td>\n",
       "      <td>0</td>\n",
       "      <td>26.6</td>\n",
       "      <td>0.351</td>\n",
       "      <td>31</td>\n",
       "      <td>0</td>\n",
       "    </tr>\n",
       "    <tr>\n",
       "      <th>2</th>\n",
       "      <td>8</td>\n",
       "      <td>183</td>\n",
       "      <td>64</td>\n",
       "      <td>0</td>\n",
       "      <td>0</td>\n",
       "      <td>23.3</td>\n",
       "      <td>0.672</td>\n",
       "      <td>32</td>\n",
       "      <td>1</td>\n",
       "    </tr>\n",
       "  </tbody>\n",
       "</table>\n",
       "</div>"
      ],
      "text/plain": [
       "   Pregnancies  Glucose  BloodPressure  SkinThickness  Insulin   BMI  \\\n",
       "0            6      148             72             35        0  33.6   \n",
       "1            1       85             66             29        0  26.6   \n",
       "2            8      183             64              0        0  23.3   \n",
       "\n",
       "   DiabetesPedigreeFunction  Age  Outcome  \n",
       "0                     0.627   50        1  \n",
       "1                     0.351   31        0  \n",
       "2                     0.672   32        1  "
      ]
     },
     "execution_count": 5,
     "metadata": {},
     "output_type": "execute_result"
    }
   ],
   "source": [
    "df.head(3)"
   ]
  },
  {
   "cell_type": "code",
   "execution_count": 6,
   "metadata": {},
   "outputs": [
    {
     "name": "stdout",
     "output_type": "stream",
     "text": [
      "Dimensión de la matriz de features para entrenamiento: (614, 8)\n",
      "Dimensión de la matriz de features para testeo: (154, 8)\n"
     ]
    }
   ],
   "source": [
    "random_seed = 7\n",
    "# Lista de features que vamos a considerar \n",
    "features = ['Pregnancies', 'Glucose', 'BloodPressure', 'SkinThickness', 'Insulin', 'BMI', 'DiabetesPedigreeFunction', 'Age']\n",
    "\n",
    "# Variable a predecir\n",
    "target = 'Outcome'\n",
    "\n",
    "# Construcción de la matriz de features\n",
    "X = df[features].to_numpy()\n",
    "# Construcción del vector a predecir\n",
    "y = df[target].to_numpy()\n",
    "\n",
    "# Creacion de las matrices de entrenamiento y testeo. \n",
    "X_train, X_test, y_train, y_test = train_test_split(X, y, test_size = 0.20, random_state=random_seed)\n",
    "print('Dimensión de la matriz de features para entrenamiento: {}'.format(X_train.shape))\n",
    "print('Dimensión de la matriz de features para testeo: {}'.format(X_test.shape))"
   ]
  },
  {
   "cell_type": "code",
   "execution_count": 7,
   "metadata": {},
   "outputs": [],
   "source": [
    "# Normalizamos en train\n",
    "scaler_train = preprocessing.StandardScaler().fit(X_train)\n",
    "X_train_scaled = scaler_train.transform(X_train)"
   ]
  },
  {
   "cell_type": "code",
   "execution_count": 11,
   "metadata": {
    "scrolled": true
   },
   "outputs": [
    {
     "data": {
      "text/plain": [
       "KNeighborsClassifier(metric='euclidean')"
      ]
     },
     "execution_count": 11,
     "metadata": {},
     "output_type": "execute_result"
    }
   ],
   "source": [
    "# probar otros números para k\n",
    "# probar otras distancias, ej: euclidean, minkowski, manhattan \n",
    "# probar dar mas peso a los vecinos de un orden superior: weights = 'distance'\n",
    "knn = KNeighborsClassifier(n_neighbors=5, metric='euclidean') \n",
    "knn.fit(X_train_scaled, y_train)"
   ]
  },
  {
   "cell_type": "code",
   "execution_count": 17,
   "metadata": {},
   "outputs": [
    {
     "name": "stdout",
     "output_type": "stream",
     "text": [
      "El accuracy en el conjunto de train es 0.8371335504885994\n"
     ]
    }
   ],
   "source": [
    "y_pred_train = knn.predict(X_train_scaled)\n",
    "accuracy_train =  accuracy_score(y_pred_train, y_train)\n",
    "print('El accuracy en el conjunto de train es', accuracy_train)"
   ]
  },
  {
   "cell_type": "code",
   "execution_count": 18,
   "metadata": {},
   "outputs": [],
   "source": [
    "# Normalizamos en test\n",
    "scaler_test = preprocessing.StandardScaler().fit(X_test)\n",
    "X_test_scaled = scaler_test.transform(X_test)"
   ]
  },
  {
   "cell_type": "code",
   "execution_count": 23,
   "metadata": {},
   "outputs": [
    {
     "name": "stdout",
     "output_type": "stream",
     "text": [
      "{'algorithm': 'auto', 'leaf_size': 30, 'metric': 'euclidean', 'metric_params': None, 'n_jobs': None, 'n_neighbors': 5, 'p': 2, 'weights': 'uniform'}\n",
      "0.7402597402597403\n",
      "El accuracy en el conjunto de test es 0.7402597402597403\n"
     ]
    }
   ],
   "source": [
    "y_pred_test = knn.predict(X_test_scaled)\n",
    "accuracy_test =  accuracy_score(y_pred_test, y_test)\n",
    "print(knn.get_params(deep=True))\n",
    "print(knn.score(X_test_scaled, y_test, sample_weight=None))\n",
    "print('El accuracy en el conjunto de test es', accuracy_test)"
   ]
  },
  {
   "cell_type": "code",
   "execution_count": 20,
   "metadata": {
    "scrolled": false
   },
   "outputs": [
    {
     "data": {
      "image/png": "[encoded data removed]",
      "text/plain": [
       "<Figure size 432x288 with 2 Axes>"
      ]
     },
     "metadata": {
      "needs_background": "light"
     },
     "output_type": "display_data"
    }
   ],
   "source": [
    "plot_confusion_matrix(knn, X_test_scaled, y_test)  \n",
    "plt.show()"
   ]
  },
  {
   "cell_type": "code",
   "execution_count": 24,
   "metadata": {},
   "outputs": [
    {
     "name": "stdout",
     "output_type": "stream",
     "text": [
      "Exactitud: 66.66666666666666\n",
      "Precision: 0.8350515463917526\n",
      "Sensibilidad: 0.7714285714285715\n",
      "Especifidad: 0.673469387755102\n"
     ]
    }
   ],
   "source": [
    "VP=81;VN=33;FP=16;FN=24\n",
    "# accuracy es lo cerca que esta el resultado de una medicion del valor verdadero\n",
    "print('Exactitud:',(VP+VN)/(VP+VN+FN+VN)*100) \n",
    "# dispersion del conjunto de valores obtenidos a partir de mediciones repetidas de una magnitud\n",
    "print('Precision:',VP/(VP+FP))\n",
    "# sensibilidad: proporcion de casos positivios que fueron correctamente identificados\n",
    "print('Sensibilidad:',VP/(VP+FN))\n",
    "# especifidad, casos negativos que se detectaron correctamente\n",
    "print('Especifidad:',VN/(VN+FP))\n"
   ]
  },
  {
   "cell_type": "markdown",
   "metadata": {},
   "source": [
    "# Ventajas de KNN:\n",
    "1.Fácil de usar e interpretar (podemos entender por\n",
    "qué obtuvimos la predicción que obtuvimos)\n",
    "\n",
    "2.Depende de un único hiperparámetro\n",
    "\n",
    "4.Entrenamiento súper rápido\n",
    "\n",
    "5.Útil para sistemas de recomendaciones\n",
    "\n",
    "6.\"Buena\" performance"
   ]
  },
  {
   "cell_type": "markdown",
   "metadata": {},
   "source": [
    "# Desventajas de KNN:\n",
    "\n",
    "1.Es lo que se llama un “ lazy learner ”: no se estiman los parámetros de una f(x,β) que pueda ser aplicada rápidamente a nuevos datos; cada nueva predicción necesita potencialmente todos los datos.\n",
    "\n",
    "2.Por el ítem anterior, se vuelve lento a la hora de predecir muchos labels\n",
    "\n",
    "3.Puede tener requerimientos altos de memoria"
   ]
  },
  {
   "cell_type": "code",
   "execution_count": null,
   "metadata": {},
   "outputs": [],
   "source": []
  }
 ],
 "metadata": {
  "colab": {
   "name": "Clasificación con KNN.ipynb",
   "provenance": []
  },
  "kernelspec": {
   "display_name": "Python 3",
   "language": "python",
   "name": "python3"
  },
  "language_info": {
   "codemirror_mode": {
    "name": "ipython",
    "version": 3
   },
   "file_extension": ".py",
   "mimetype": "text/x-python",
   "name": "python",
   "nbconvert_exporter": "python",
   "pygments_lexer": "ipython3",
   "version": "3.8.3"
  }
 },
 "nbformat": 4,
 "nbformat_minor": 1
}
