{
 "cells": [
  {
   "cell_type": "code",
   "execution_count": 9,
   "metadata": {},
   "outputs": [],
   "source": [
    "import pandas as pd\n",
    "from matplotlib import pyplot as plt\n",
    "import numpy as np"
   ]
  },
  {
   "cell_type": "code",
   "execution_count": null,
   "metadata": {},
   "outputs": [],
   "source": []
  },
  {
   "cell_type": "code",
   "execution_count": 10,
   "metadata": {},
   "outputs": [],
   "source": [
    "plt.rcParams[\"figure.figsize\"] = (10,10)\n",
    "\n",
    "\n",
    "np.random.seed(153)\n",
    "\n",
    "x_data = np.random.randn(100)\n",
    "y_data = -x_data + np.random.randn(100)*0.5\n",
    "\n",
    "df = pd.DataFrame()\n",
    "df['vcnt'] = x_data\n",
    "df['ecnt'] = y_data\n",
    "\n",
    "\n",
    "left = 0.1\n",
    "bottom = 0.1\n",
    "top = 0.8\n",
    "right = 0.8"
   ]
  },
  {
   "cell_type": "code",
   "execution_count": 11,
   "metadata": {
    "colab": {
     "base_uri": "https://localhost:8080/",
     "height": 751
    },
    "executionInfo": {
     "elapsed": 1642,
     "status": "ok",
     "timestamp": 1620022480335,
     "user": {
      "displayName": "Guillermo Leale",
      "photoUrl": "https://lh3.googleusercontent.com/a-/AOh14GjmAQkUObdrQM-04NNTz6Nqyf_YQb39DfbtjHuAjQ=s64",
      "userId": "09326769842232360720"
     },
     "user_tz": 180
    },
    "id": "uNrLABwo2Bo9",
    "outputId": "6ed94c3c-cf93-48da-ba48-dc2ed2ec4531"
   },
   "outputs": [
    {
     "data": {
      "text/plain": [
       "(-1.0, 1.0)"
      ]
     },
     "execution_count": 11,
     "metadata": {},
     "output_type": "execute_result"
    },
    {
     "data": {
      "image/png": "[encoded data removed]",
      "text/plain": [
       "<Figure size 720x720 with 3 Axes>"
      ]
     },
     "metadata": {
      "needs_background": "light"
     },
     "output_type": "display_data"
    }
   ],
   "source": [
    "\n",
    "# Definimos los ejes\n",
    "\n",
    "main_ax = plt.axes([left,bottom,right-left,top-bottom])\n",
    "# create axes to the top and right of the main axes and hide them\n",
    "top_ax = plt.axes([left,top,right - left,1-top])\n",
    "plt.axis('off')\n",
    "right_ax = plt.axes([right,bottom,1-right,top-bottom])\n",
    "plt.axis('off')\n",
    "main_ax.plot(df['vcnt'],  df['ecnt'], 'ko', alpha=0.5)\n",
    "# Save the default tick positions, so we can reset them..\n",
    "\n",
    "tcksx = main_ax.get_xticks()\n",
    "tcksy = main_ax.get_yticks()\n",
    "\n",
    "right_ax.boxplot(df['ecnt'], positions=[0], notch=False, widths=1.)\n",
    "top_ax.boxplot(df['vcnt'], positions=[0], vert=False, notch=False, widths=1.)\n",
    "\n",
    "main_ax.set_yticks(tcksy) # pos = tcksy\n",
    "main_ax.set_xticks(tcksx) # pos = tcksx\n",
    "main_ax.set_yticklabels([int(j) for j in tcksy])\n",
    "main_ax.set_xticklabels([int(j) for j in tcksx])\n",
    "main_ax.set_ylim([min(tcksy-1),max(tcksy)])\n",
    "main_ax.set_xlim([min(tcksx-1),max(tcksx)])\n",
    "main_ax.set_xlabel('Variable x')\n",
    "main_ax.set_ylabel('Variable y')\n",
    "\n",
    "\n",
    "# set the limits to the box axes\n",
    "top_ax.set_xlim(main_ax.get_xlim())\n",
    "top_ax.set_ylim(-1,1)\n",
    "right_ax.set_ylim(main_ax.get_ylim())\n",
    "right_ax.set_xlim(-1,1)"
   ]
  },
  {
   "cell_type": "code",
   "execution_count": null,
   "metadata": {},
   "outputs": [],
   "source": []
  }
 ],
 "metadata": {
  "colab": {
   "authorship_tag": "ABX9TyP7hYvtTETnPj+4SdEJsBtV",
   "name": "Clase 08 - ejemplo dispersion y caja y bigotes.ipynb",
   "provenance": []
  },
  "kernelspec": {
   "display_name": "Python 3",
   "language": "python",
   "name": "python3"
  },
  "language_info": {
   "codemirror_mode": {
    "name": "ipython",
    "version": 3
   },
   "file_extension": ".py",
   "mimetype": "text/x-python",
   "name": "python",
   "nbconvert_exporter": "python",
   "pygments_lexer": "ipython3",
   "version": "3.8.3"
  }
 },
 "nbformat": 4,
 "nbformat_minor": 1
}
