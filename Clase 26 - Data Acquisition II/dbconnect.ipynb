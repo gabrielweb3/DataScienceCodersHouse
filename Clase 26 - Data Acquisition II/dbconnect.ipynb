{
 "cells": [
  {
   "cell_type": "code",
   "execution_count": 2,
   "id": "f45ef1e6-569d-4653-afcb-4cfcf82cd235",
   "metadata": {},
   "outputs": [],
   "source": [
    "import sqlite3\n",
    "import pandas as pd\n",
    "\n",
    "sql = \"SELECT name FROM sqlite_master where type = 'table'\"\n",
    "sql2 = \"SELECT * FROM NBA_season1718_salary where season17_18 > 10000000\"\n",
    "\n",
    "\n",
    "con = sqlite3.connect(\"nba_salary.sqlite\")\n",
    "df = pd.read_sql_query(sql,con)"
   ]
  },
  {
   "cell_type": "code",
   "execution_count": 3,
   "id": "74c19fff-d982-473f-acd5-4cc16a137ac1",
   "metadata": {},
   "outputs": [
    {
     "data": {
      "text/html": [
       "<div>\n",
       "<style scoped>\n",
       "    .dataframe tbody tr th:only-of-type {\n",
       "        vertical-align: middle;\n",
       "    }\n",
       "\n",
       "    .dataframe tbody tr th {\n",
       "        vertical-align: top;\n",
       "    }\n",
       "\n",
       "    .dataframe thead th {\n",
       "        text-align: right;\n",
       "    }\n",
       "</style>\n",
       "<table border=\"1\" class=\"dataframe\">\n",
       "  <thead>\n",
       "    <tr style=\"text-align: right;\">\n",
       "      <th></th>\n",
       "      <th>name</th>\n",
       "    </tr>\n",
       "  </thead>\n",
       "  <tbody>\n",
       "    <tr>\n",
       "      <th>0</th>\n",
       "      <td>NBA_season1718_salary</td>\n",
       "    </tr>\n",
       "    <tr>\n",
       "      <th>1</th>\n",
       "      <td>Seasons_Stats</td>\n",
       "    </tr>\n",
       "  </tbody>\n",
       "</table>\n",
       "</div>"
      ],
      "text/plain": [
       "                    name\n",
       "0  NBA_season1718_salary\n",
       "1          Seasons_Stats"
      ]
     },
     "execution_count": 3,
     "metadata": {},
     "output_type": "execute_result"
    }
   ],
   "source": [
    "df"
   ]
  },
  {
   "cell_type": "code",
   "execution_count": 6,
   "id": "88d0ede8-1b70-41c3-8df7-b2a33ae94b22",
   "metadata": {},
   "outputs": [
    {
     "name": "stdout",
     "output_type": "stream",
     "text": [
      "            X1    Year             Player  Pos   Age   Tm     G   GS      MP  \\\n",
      "0          0.0  1950.0    Curly Armstrong  G-F  31.0  FTW  63.0  NaN     NaN   \n",
      "1          1.0  1950.0       Cliff Barker   SG  29.0  INO  49.0  NaN     NaN   \n",
      "2          2.0  1950.0      Leo Barnhorst   SF  25.0  CHS  67.0  NaN     NaN   \n",
      "3          3.0  1950.0         Ed Bartels    F  24.0  TOT  15.0  NaN     NaN   \n",
      "4          4.0  1950.0         Ed Bartels    F  24.0  DNN  13.0  NaN     NaN   \n",
      "...        ...     ...                ...  ...   ...  ...   ...  ...     ...   \n",
      "24686  24686.0  2017.0        Cody Zeller   PF  24.0  CHO  62.0  NaN  1725.0   \n",
      "24687  24687.0  2017.0       Tyler Zeller    C  27.0  BOS  51.0  NaN   525.0   \n",
      "24688  24688.0  2017.0  Stephen Zimmerman    C  20.0  ORL  19.0  0.0   108.0   \n",
      "24689  24689.0  2017.0        Paul Zipser   SF  22.0  CHI  44.0  NaN   843.0   \n",
      "24690  24690.0  2017.0        Ivica Zubac    C  19.0  LAL  38.0  NaN   609.0   \n",
      "\n",
      "        PER  ...    FT%  ORB  DRB    TRB    AST  STL  BLK  TOV     PF    PTS  \n",
      "0       NaN  ...  0.705  NaN  NaN    NaN  176.0  NaN  NaN  NaN  217.0  458.0  \n",
      "1       NaN  ...  0.708  NaN  NaN    NaN  109.0  NaN  NaN  NaN   99.0  279.0  \n",
      "2       NaN  ...  0.698  NaN  NaN    NaN  140.0  NaN  NaN  NaN  192.0  438.0  \n",
      "3       NaN  ...  0.559  NaN  NaN    NaN   20.0  NaN  NaN  NaN   29.0   63.0  \n",
      "4       NaN  ...  0.548  NaN  NaN    NaN   20.0  NaN  NaN  NaN   27.0   59.0  \n",
      "...     ...  ...    ...  ...  ...    ...    ...  ...  ...  ...    ...    ...  \n",
      "24686  16.7  ...  0.679  NaN  NaN  405.0   99.0  NaN  NaN  NaN  189.0  639.0  \n",
      "24687  13.0  ...  0.564  NaN  NaN  124.0   42.0  NaN  NaN  NaN   61.0  178.0  \n",
      "24688   7.3  ...  0.600  NaN  NaN   35.0    4.0  NaN  NaN  NaN   17.0   23.0  \n",
      "24689   6.9  ...  0.775  NaN  NaN  125.0   36.0  NaN  NaN  NaN   78.0  240.0  \n",
      "24690  17.0  ...  0.653  NaN  NaN  159.0   30.0  NaN  NaN  NaN   66.0  284.0  \n",
      "\n",
      "[24691 rows x 53 columns]\n"
     ]
    }
   ],
   "source": [
    "import sqlalchemy as db\n",
    "import pandas as pd\n",
    "\n",
    "engine = db.create_engine('sqlite:///nba_salary.sqlite')\n",
    "connection = engine.connect()\n",
    "\n",
    "stats = pd.read_sql_query(\"SELECT * FROM seasons_stats\",connection)\n",
    "salary = pd.read_sql_query(\"SELECT * FROM NBA_season1718_salary\",connection)\n",
    "\n",
    "print(stats)"
   ]
  },
  {
   "cell_type": "code",
   "execution_count": 8,
   "id": "51ed329d-3384-478c-8c49-e104f6b0254c",
   "metadata": {},
   "outputs": [
    {
     "name": "stdout",
     "output_type": "stream",
     "text": [
      "        X1            Player   Tm  season17_18\n",
      "0      1.0     Stephen Curry  GSW   34682550.0\n",
      "1      2.0      LeBron James  CLE   33285709.0\n",
      "2      3.0      Paul Millsap  DEN   31269231.0\n",
      "3      4.0    Gordon Hayward  BOS   29727900.0\n",
      "4      5.0     Blake Griffin  DET   29512900.0\n",
      "..     ...               ...  ...          ...\n",
      "117  118.0   Mirza Teletovic  MIL   10500000.0\n",
      "118  119.0  Bojan Bogdanovic  IND   10500000.0\n",
      "119  120.0         Jon Leuer  DET   10497319.0\n",
      "120  121.0     Iman Shumpert  SAC   10337079.0\n",
      "121  122.0  Maurice Harkless  POR   10162922.0\n",
      "\n",
      "[122 rows x 4 columns]\n"
     ]
    }
   ],
   "source": [
    "millo = salary[salary['season17_18'] > 10000000]\n",
    "print(millo)"
   ]
  },
  {
   "cell_type": "code",
   "execution_count": 12,
   "id": "ec82921c-d599-4a00-9901-815bc13e3b8e",
   "metadata": {},
   "outputs": [
    {
     "name": "stdout",
     "output_type": "stream",
     "text": [
      "       X1_x            Player Tm_x  season17_18     X1_y    Year Pos   Age  \\\n",
      "0       1.0     Stephen Curry  GSW   34682550.0  20042.0  2010.0  PG  21.0   \n",
      "1       1.0     Stephen Curry  GSW   34682550.0  20654.0  2011.0  PG  22.0   \n",
      "2       1.0     Stephen Curry  GSW   34682550.0  21236.0  2012.0  PG  23.0   \n",
      "3       1.0     Stephen Curry  GSW   34682550.0  21798.0  2013.0  PG  24.0   \n",
      "4       1.0     Stephen Curry  GSW   34682550.0  22402.0  2014.0  PG  25.0   \n",
      "...     ...               ...  ...          ...      ...     ...  ..   ...   \n",
      "1013  122.0  Maurice Harkless  POR   10162922.0  21887.0  2013.0  SF  19.0   \n",
      "1014  122.0  Maurice Harkless  POR   10162922.0  22505.0  2014.0  SF  20.0   \n",
      "1015  122.0  Maurice Harkless  POR   10162922.0  23115.0  2015.0  SF  21.0   \n",
      "1016  122.0  Maurice Harkless  POR   10162922.0  23723.0  2016.0  SF  22.0   \n",
      "1017  122.0  Maurice Harkless  POR   10162922.0  24307.0  2017.0  SF  23.0   \n",
      "\n",
      "     Tm_y     G  ...    FT%  ORB  DRB    TRB    AST  STL  BLK  TOV     PF  \\\n",
      "0     GSW  80.0  ...  0.885  NaN  NaN  356.0  472.0  NaN  NaN  NaN  252.0   \n",
      "1     GSW  74.0  ...  0.934  NaN  NaN  286.0  432.0  NaN  NaN  NaN  233.0   \n",
      "2     GSW  26.0  ...  0.809  NaN  NaN   88.0  138.0  NaN  NaN  NaN   62.0   \n",
      "3     GSW  78.0  ...  0.900  NaN  NaN  314.0  539.0  NaN  NaN  NaN  198.0   \n",
      "4     GSW  78.0  ...  0.885  NaN  NaN  334.0  666.0  NaN  NaN  NaN  194.0   \n",
      "...   ...   ...  ...    ...  ...  ...    ...    ...  ...  ...  ...    ...   \n",
      "1013  ORL  76.0  ...  0.570  NaN  NaN  335.0   50.0  NaN  NaN  NaN  144.0   \n",
      "1014  ORL  80.0  ...  0.594  NaN  NaN  264.0   80.0  NaN  NaN  NaN  140.0   \n",
      "1015  ORL  45.0  ...  0.537  NaN  NaN  106.0   25.0  NaN  NaN  NaN   66.0   \n",
      "1016  POR  78.0  ...  0.622  NaN  NaN  280.0   67.0  NaN  NaN  NaN  124.0   \n",
      "1017  POR  77.0  ...  0.621  NaN  NaN  341.0   89.0  NaN  NaN  NaN  214.0   \n",
      "\n",
      "         PTS  \n",
      "0     1399.0  \n",
      "1     1373.0  \n",
      "2      383.0  \n",
      "3     1786.0  \n",
      "4     1873.0  \n",
      "...      ...  \n",
      "1013   625.0  \n",
      "1014   592.0  \n",
      "1015   158.0  \n",
      "1016   498.0  \n",
      "1017   773.0  \n",
      "\n",
      "[1018 rows x 56 columns]\n"
     ]
    }
   ],
   "source": [
    "df = pd.merge(millo,stats, on = 'Player')\n",
    "print(df)"
   ]
  },
  {
   "cell_type": "code",
   "execution_count": 14,
   "id": "f272767a-61aa-4a43-aa5d-debcf152ced3",
   "metadata": {},
   "outputs": [],
   "source": [
    "df2 = pd.merge(millo,stats, on = ['Player','Tm'])\n",
    "print(df2)"
   ]
  },
  {
   "cell_type": "code",
   "execution_count": 25,
   "id": "9e996783-cdf9-4c2f-8a28-666b1f6490b6",
   "metadata": {},
   "outputs": [
    {
     "data": {
      "text/plain": [
       "<AxesSubplot:>"
      ]
     },
     "execution_count": 25,
     "metadata": {},
     "output_type": "execute_result"
    },
    {
     "data": {
      "image/png": "[encoded data removed]",
      "text/plain": [
       "<Figure size 1800x720 with 2 Axes>"
      ]
     },
     "metadata": {
      "needs_background": "light"
     },
     "output_type": "display_data"
    }
   ],
   "source": [
    "import missingno as msno\n",
    "msno.matrix(df2)"
   ]
  },
  {
   "cell_type": "code",
   "execution_count": 19,
   "id": "5dd3b8a3-4156-4134-8785-0b5d5ad2b5fb",
   "metadata": {},
   "outputs": [],
   "source": [
    "df2.isnull()"
   ]
  },
  {
   "cell_type": "code",
   "execution_count": 26,
   "id": "07e3fc71-beed-4931-98f1-76b92802fa2e",
   "metadata": {},
   "outputs": [
    {
     "ename": "ValueError",
     "evalue": "zero-size array to reduction operation minimum which has no identity",
     "output_type": "error",
     "traceback": [
      "\u001b[0;31m---------------------------------------------------------------------------\u001b[0m",
      "\u001b[0;31mValueError\u001b[0m                                Traceback (most recent call last)",
      "\u001b[0;32m<ipython-input-26-6a0bfe3d6250>\u001b[0m in \u001b[0;36m<module>\u001b[0;34m\u001b[0m\n\u001b[1;32m      1\u001b[0m \u001b[0mdroped\u001b[0m \u001b[0;34m=\u001b[0m \u001b[0mdf2\u001b[0m\u001b[0;34m.\u001b[0m\u001b[0mdropna\u001b[0m\u001b[0;34m(\u001b[0m\u001b[0;34m)\u001b[0m\u001b[0;34m\u001b[0m\u001b[0;34m\u001b[0m\u001b[0m\n\u001b[0;32m----> 2\u001b[0;31m \u001b[0mmsno\u001b[0m\u001b[0;34m.\u001b[0m\u001b[0mmatrix\u001b[0m\u001b[0;34m(\u001b[0m\u001b[0mdroped\u001b[0m\u001b[0;34m)\u001b[0m\u001b[0;34m\u001b[0m\u001b[0;34m\u001b[0m\u001b[0m\n\u001b[0m",
      "\u001b[0;32m~/.local/lib/python3.8/site-packages/missingno/missingno.py\u001b[0m in \u001b[0;36mmatrix\u001b[0;34m(df, filter, n, p, sort, figsize, width_ratios, color, fontsize, labels, sparkline, inline, freq, ax)\u001b[0m\n\u001b[1;32m     66\u001b[0m \u001b[0;34m\u001b[0m\u001b[0m\n\u001b[1;32m     67\u001b[0m     \u001b[0;31m# Create the nullity plot.\u001b[0m\u001b[0;34m\u001b[0m\u001b[0;34m\u001b[0m\u001b[0;34m\u001b[0m\u001b[0m\n\u001b[0;32m---> 68\u001b[0;31m     \u001b[0max0\u001b[0m\u001b[0;34m.\u001b[0m\u001b[0mimshow\u001b[0m\u001b[0;34m(\u001b[0m\u001b[0mg\u001b[0m\u001b[0;34m,\u001b[0m \u001b[0minterpolation\u001b[0m\u001b[0;34m=\u001b[0m\u001b[0;34m'none'\u001b[0m\u001b[0;34m)\u001b[0m\u001b[0;34m\u001b[0m\u001b[0;34m\u001b[0m\u001b[0m\n\u001b[0m\u001b[1;32m     69\u001b[0m \u001b[0;34m\u001b[0m\u001b[0m\n\u001b[1;32m     70\u001b[0m     \u001b[0;31m# Remove extraneous default visual elements.\u001b[0m\u001b[0;34m\u001b[0m\u001b[0;34m\u001b[0m\u001b[0;34m\u001b[0m\u001b[0m\n",
      "\u001b[0;32m~/.local/lib/python3.8/site-packages/matplotlib/__init__.py\u001b[0m in \u001b[0;36minner\u001b[0;34m(ax, data, *args, **kwargs)\u001b[0m\n\u001b[1;32m   1359\u001b[0m     \u001b[0;32mdef\u001b[0m \u001b[0minner\u001b[0m\u001b[0;34m(\u001b[0m\u001b[0max\u001b[0m\u001b[0;34m,\u001b[0m \u001b[0;34m*\u001b[0m\u001b[0margs\u001b[0m\u001b[0;34m,\u001b[0m \u001b[0mdata\u001b[0m\u001b[0;34m=\u001b[0m\u001b[0;32mNone\u001b[0m\u001b[0;34m,\u001b[0m \u001b[0;34m**\u001b[0m\u001b[0mkwargs\u001b[0m\u001b[0;34m)\u001b[0m\u001b[0;34m:\u001b[0m\u001b[0;34m\u001b[0m\u001b[0;34m\u001b[0m\u001b[0m\n\u001b[1;32m   1360\u001b[0m         \u001b[0;32mif\u001b[0m \u001b[0mdata\u001b[0m \u001b[0;32mis\u001b[0m \u001b[0;32mNone\u001b[0m\u001b[0;34m:\u001b[0m\u001b[0;34m\u001b[0m\u001b[0;34m\u001b[0m\u001b[0m\n\u001b[0;32m-> 1361\u001b[0;31m             \u001b[0;32mreturn\u001b[0m \u001b[0mfunc\u001b[0m\u001b[0;34m(\u001b[0m\u001b[0max\u001b[0m\u001b[0;34m,\u001b[0m \u001b[0;34m*\u001b[0m\u001b[0mmap\u001b[0m\u001b[0;34m(\u001b[0m\u001b[0msanitize_sequence\u001b[0m\u001b[0;34m,\u001b[0m \u001b[0margs\u001b[0m\u001b[0;34m)\u001b[0m\u001b[0;34m,\u001b[0m \u001b[0;34m**\u001b[0m\u001b[0mkwargs\u001b[0m\u001b[0;34m)\u001b[0m\u001b[0;34m\u001b[0m\u001b[0;34m\u001b[0m\u001b[0m\n\u001b[0m\u001b[1;32m   1362\u001b[0m \u001b[0;34m\u001b[0m\u001b[0m\n\u001b[1;32m   1363\u001b[0m         \u001b[0mbound\u001b[0m \u001b[0;34m=\u001b[0m \u001b[0mnew_sig\u001b[0m\u001b[0;34m.\u001b[0m\u001b[0mbind\u001b[0m\u001b[0;34m(\u001b[0m\u001b[0max\u001b[0m\u001b[0;34m,\u001b[0m \u001b[0;34m*\u001b[0m\u001b[0margs\u001b[0m\u001b[0;34m,\u001b[0m \u001b[0;34m**\u001b[0m\u001b[0mkwargs\u001b[0m\u001b[0;34m)\u001b[0m\u001b[0;34m\u001b[0m\u001b[0;34m\u001b[0m\u001b[0m\n",
      "\u001b[0;32m~/.local/lib/python3.8/site-packages/matplotlib/axes/_axes.py\u001b[0m in \u001b[0;36mimshow\u001b[0;34m(self, X, cmap, norm, aspect, interpolation, alpha, vmin, vmax, origin, extent, filternorm, filterrad, resample, url, **kwargs)\u001b[0m\n\u001b[1;32m   5607\u001b[0m                               resample=resample, **kwargs)\n\u001b[1;32m   5608\u001b[0m \u001b[0;34m\u001b[0m\u001b[0m\n\u001b[0;32m-> 5609\u001b[0;31m         \u001b[0mim\u001b[0m\u001b[0;34m.\u001b[0m\u001b[0mset_data\u001b[0m\u001b[0;34m(\u001b[0m\u001b[0mX\u001b[0m\u001b[0;34m)\u001b[0m\u001b[0;34m\u001b[0m\u001b[0;34m\u001b[0m\u001b[0m\n\u001b[0m\u001b[1;32m   5610\u001b[0m         \u001b[0mim\u001b[0m\u001b[0;34m.\u001b[0m\u001b[0mset_alpha\u001b[0m\u001b[0;34m(\u001b[0m\u001b[0malpha\u001b[0m\u001b[0;34m)\u001b[0m\u001b[0;34m\u001b[0m\u001b[0;34m\u001b[0m\u001b[0m\n\u001b[1;32m   5611\u001b[0m         \u001b[0;32mif\u001b[0m \u001b[0mim\u001b[0m\u001b[0;34m.\u001b[0m\u001b[0mget_clip_path\u001b[0m\u001b[0;34m(\u001b[0m\u001b[0;34m)\u001b[0m \u001b[0;32mis\u001b[0m \u001b[0;32mNone\u001b[0m\u001b[0;34m:\u001b[0m\u001b[0;34m\u001b[0m\u001b[0;34m\u001b[0m\u001b[0m\n",
      "\u001b[0;32m~/.local/lib/python3.8/site-packages/matplotlib/image.py\u001b[0m in \u001b[0;36mset_data\u001b[0;34m(self, A)\u001b[0m\n\u001b[1;32m    716\u001b[0m             \u001b[0;31m# making reliable interpretation impossible.\u001b[0m\u001b[0;34m\u001b[0m\u001b[0;34m\u001b[0m\u001b[0;34m\u001b[0m\u001b[0m\n\u001b[1;32m    717\u001b[0m             \u001b[0mhigh\u001b[0m \u001b[0;34m=\u001b[0m \u001b[0;36m255\u001b[0m \u001b[0;32mif\u001b[0m \u001b[0mnp\u001b[0m\u001b[0;34m.\u001b[0m\u001b[0missubdtype\u001b[0m\u001b[0;34m(\u001b[0m\u001b[0mself\u001b[0m\u001b[0;34m.\u001b[0m\u001b[0m_A\u001b[0m\u001b[0;34m.\u001b[0m\u001b[0mdtype\u001b[0m\u001b[0;34m,\u001b[0m \u001b[0mnp\u001b[0m\u001b[0;34m.\u001b[0m\u001b[0minteger\u001b[0m\u001b[0;34m)\u001b[0m \u001b[0;32melse\u001b[0m \u001b[0;36m1\u001b[0m\u001b[0;34m\u001b[0m\u001b[0;34m\u001b[0m\u001b[0m\n\u001b[0;32m--> 718\u001b[0;31m             \u001b[0;32mif\u001b[0m \u001b[0mself\u001b[0m\u001b[0;34m.\u001b[0m\u001b[0m_A\u001b[0m\u001b[0;34m.\u001b[0m\u001b[0mmin\u001b[0m\u001b[0;34m(\u001b[0m\u001b[0;34m)\u001b[0m \u001b[0;34m<\u001b[0m \u001b[0;36m0\u001b[0m \u001b[0;32mor\u001b[0m \u001b[0mhigh\u001b[0m \u001b[0;34m<\u001b[0m \u001b[0mself\u001b[0m\u001b[0;34m.\u001b[0m\u001b[0m_A\u001b[0m\u001b[0;34m.\u001b[0m\u001b[0mmax\u001b[0m\u001b[0;34m(\u001b[0m\u001b[0;34m)\u001b[0m\u001b[0;34m:\u001b[0m\u001b[0;34m\u001b[0m\u001b[0;34m\u001b[0m\u001b[0m\n\u001b[0m\u001b[1;32m    719\u001b[0m                 _log.warning(\n\u001b[1;32m    720\u001b[0m                     \u001b[0;34m'Clipping input data to the valid range for imshow with '\u001b[0m\u001b[0;34m\u001b[0m\u001b[0;34m\u001b[0m\u001b[0m\n",
      "\u001b[0;32m~/.local/lib/python3.8/site-packages/numpy/ma/core.py\u001b[0m in \u001b[0;36mmin\u001b[0;34m(self, axis, out, fill_value, keepdims)\u001b[0m\n\u001b[1;32m   5695\u001b[0m         \u001b[0;31m# No explicit output\u001b[0m\u001b[0;34m\u001b[0m\u001b[0;34m\u001b[0m\u001b[0;34m\u001b[0m\u001b[0m\n\u001b[1;32m   5696\u001b[0m         \u001b[0;32mif\u001b[0m \u001b[0mout\u001b[0m \u001b[0;32mis\u001b[0m \u001b[0;32mNone\u001b[0m\u001b[0;34m:\u001b[0m\u001b[0;34m\u001b[0m\u001b[0;34m\u001b[0m\u001b[0m\n\u001b[0;32m-> 5697\u001b[0;31m             result = self.filled(fill_value).min(\n\u001b[0m\u001b[1;32m   5698\u001b[0m                 axis=axis, out=out, **kwargs).view(type(self))\n\u001b[1;32m   5699\u001b[0m             \u001b[0;32mif\u001b[0m \u001b[0mresult\u001b[0m\u001b[0;34m.\u001b[0m\u001b[0mndim\u001b[0m\u001b[0;34m:\u001b[0m\u001b[0;34m\u001b[0m\u001b[0;34m\u001b[0m\u001b[0m\n",
      "\u001b[0;32m~/.local/lib/python3.8/site-packages/numpy/core/_methods.py\u001b[0m in \u001b[0;36m_amin\u001b[0;34m(a, axis, out, keepdims, initial, where)\u001b[0m\n\u001b[1;32m     41\u001b[0m def _amin(a, axis=None, out=None, keepdims=False,\n\u001b[1;32m     42\u001b[0m           initial=_NoValue, where=True):\n\u001b[0;32m---> 43\u001b[0;31m     \u001b[0;32mreturn\u001b[0m \u001b[0mumr_minimum\u001b[0m\u001b[0;34m(\u001b[0m\u001b[0ma\u001b[0m\u001b[0;34m,\u001b[0m \u001b[0maxis\u001b[0m\u001b[0;34m,\u001b[0m \u001b[0;32mNone\u001b[0m\u001b[0;34m,\u001b[0m \u001b[0mout\u001b[0m\u001b[0;34m,\u001b[0m \u001b[0mkeepdims\u001b[0m\u001b[0;34m,\u001b[0m \u001b[0minitial\u001b[0m\u001b[0;34m,\u001b[0m \u001b[0mwhere\u001b[0m\u001b[0;34m)\u001b[0m\u001b[0;34m\u001b[0m\u001b[0;34m\u001b[0m\u001b[0m\n\u001b[0m\u001b[1;32m     44\u001b[0m \u001b[0;34m\u001b[0m\u001b[0m\n\u001b[1;32m     45\u001b[0m def _sum(a, axis=None, dtype=None, out=None, keepdims=False,\n",
      "\u001b[0;31mValueError\u001b[0m: zero-size array to reduction operation minimum which has no identity"
     ]
    },
    {
     "data": {
      "image/png": "[encoded data removed]",
      "text/plain": [
       "<Figure size 1800x720 with 2 Axes>"
      ]
     },
     "metadata": {
      "needs_background": "light"
     },
     "output_type": "display_data"
    }
   ],
   "source": [
    "droped = df2.dropna()\n",
    "msno.matrix(droped)"
   ]
  },
  {
   "cell_type": "code",
   "execution_count": 23,
   "id": "347a2196-cfa9-47aa-bc9f-468a4faab40a",
   "metadata": {},
   "outputs": [],
   "source": [
    "filled = df2.fillna(0)"
   ]
  },
  {
   "cell_type": "code",
   "execution_count": 27,
   "id": "9ff6078b-8847-4273-b087-ff6bda4e9f90",
   "metadata": {},
   "outputs": [
    {
     "data": {
      "text/plain": [
       "<AxesSubplot:>"
      ]
     },
     "execution_count": 27,
     "metadata": {},
     "output_type": "execute_result"
    },
    {
     "data": {
      "image/png": "[encoded data removed]",
      "text/plain": [
       "<Figure size 1800x720 with 2 Axes>"
      ]
     },
     "metadata": {
      "needs_background": "light"
     },
     "output_type": "display_data"
    }
   ],
   "source": [
    "msno.matrix(filled)"
   ]
  }
 ],
 "metadata": {
  "kernelspec": {
   "display_name": "Python 3",
   "language": "python",
   "name": "python3"
  },
  "language_info": {
   "codemirror_mode": {
    "name": "ipython",
    "version": 3
   },
   "file_extension": ".py",
   "mimetype": "text/x-python",
   "name": "python",
   "nbconvert_exporter": "python",
   "pygments_lexer": "ipython3",
   "version": "3.8.10"
  }
 },
 "nbformat": 4,
 "nbformat_minor": 5
}
